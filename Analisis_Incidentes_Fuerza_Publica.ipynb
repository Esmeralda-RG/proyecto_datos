{
 "cells": [
  {
   "cell_type": "markdown",
   "metadata": {},
   "source": [
    "# Análisis de Incidentes que Afectan a Miembros de la Fuerza Pública Colombiana (2010–2025)\n",
    "\n",
    "## Informe de Proyecto Final\n",
    "\n",
    "### Introducción\n",
    "Este cuaderno analiza un conjunto de datos que registra incidentes que afectan a miembros de la fuerza pública colombiana desde enero de 2010 hasta abril de 2025. El conjunto incluye detalles como la fecha, ubicación (departamento y municipio), tipo de acción (herido o asesinado) y la cantidad de personas afectadas. El objetivo es identificar tendencias temporales, zonas de mayor riesgo y la gravedad de los incidentes.\n",
    "\n",
    "### Descripción del Conjunto de Datos\n",
    "- **Fuente**: `AFECTACI_N_DE_MIEMBROS_DE_LA_FUERZA_P_BLICA_20250616.csv`\n",
    "- **Columnas**:\n",
    "  - `FECHA HECHO`: Fecha del incidente (DD/MM/YYYY).\n",
    "  - `COD_DEPTO`: Código del departamento (numérico).\n",
    "  - `DEPARTAMENTO`: Nombre del departamento (cadena).\n",
    "  - `COD_MUNI`: Código del municipio (numérico).\n",
    "  - `MUNICIPIO`: Nombre del municipio (cadena).\n",
    "  - `ACCION`: Tipo de acción (`HERIDO` para heridos, `ASESINADO` para asesinados).\n",
    "  - `CANTIDAD`: Número de personas afectadas (numérico).\n",
    "- **Período**: 1 de enero de 2010 al 30 de abril de 2025.\n",
    "\n",
    "### Objetivos\n",
    "- Identificar tendencias en los incidentes a lo largo del tiempo.\n",
    "- Determinar los departamentos y municipios más afectados.\n",
    "- Comparar la frecuencia y gravedad de heridos vs. asesinados.\n",
    "- Resaltar un hallazgo interesante.\n"
   ]
  },
  {
   "cell_type": "code",
   "execution_count": 1,
   "metadata": {},
   "outputs": [
    {
     "name": "stdout",
     "output_type": "stream",
     "text": [
      "Collecting pandas\n",
      "  Using cached pandas-2.3.0-cp312-cp312-macosx_11_0_arm64.whl.metadata (91 kB)\n",
      "Collecting matplotlib\n",
      "  Using cached matplotlib-3.10.3-cp312-cp312-macosx_11_0_arm64.whl.metadata (11 kB)\n",
      "Collecting seaborn\n",
      "  Using cached seaborn-0.13.2-py3-none-any.whl.metadata (5.4 kB)\n",
      "Collecting plotly\n",
      "  Using cached plotly-6.1.2-py3-none-any.whl.metadata (6.9 kB)\n",
      "Collecting nbformat\n",
      "  Using cached nbformat-5.10.4-py3-none-any.whl.metadata (3.6 kB)\n",
      "Collecting numpy>=1.26.0 (from pandas)\n",
      "  Using cached numpy-2.3.0-cp312-cp312-macosx_14_0_arm64.whl.metadata (62 kB)\n",
      "Requirement already satisfied: python-dateutil>=2.8.2 in ./.venv/lib/python3.12/site-packages (from pandas) (2.9.0.post0)\n",
      "Collecting pytz>=2020.1 (from pandas)\n",
      "  Using cached pytz-2025.2-py2.py3-none-any.whl.metadata (22 kB)\n",
      "Collecting tzdata>=2022.7 (from pandas)\n",
      "  Using cached tzdata-2025.2-py2.py3-none-any.whl.metadata (1.4 kB)\n",
      "Collecting contourpy>=1.0.1 (from matplotlib)\n",
      "  Using cached contourpy-1.3.2-cp312-cp312-macosx_11_0_arm64.whl.metadata (5.5 kB)\n",
      "Collecting cycler>=0.10 (from matplotlib)\n",
      "  Using cached cycler-0.12.1-py3-none-any.whl.metadata (3.8 kB)\n",
      "Collecting fonttools>=4.22.0 (from matplotlib)\n",
      "  Using cached fonttools-4.58.4-cp312-cp312-macosx_10_13_universal2.whl.metadata (106 kB)\n",
      "Collecting kiwisolver>=1.3.1 (from matplotlib)\n",
      "  Using cached kiwisolver-1.4.8-cp312-cp312-macosx_11_0_arm64.whl.metadata (6.2 kB)\n",
      "Requirement already satisfied: packaging>=20.0 in ./.venv/lib/python3.12/site-packages (from matplotlib) (25.0)\n",
      "Collecting pillow>=8 (from matplotlib)\n",
      "  Using cached pillow-11.2.1-cp312-cp312-macosx_11_0_arm64.whl.metadata (8.9 kB)\n",
      "Collecting pyparsing>=2.3.1 (from matplotlib)\n",
      "  Using cached pyparsing-3.2.3-py3-none-any.whl.metadata (5.0 kB)\n",
      "Collecting narwhals>=1.15.1 (from plotly)\n",
      "  Using cached narwhals-1.43.0-py3-none-any.whl.metadata (11 kB)\n",
      "Collecting fastjsonschema>=2.15 (from nbformat)\n",
      "  Using cached fastjsonschema-2.21.1-py3-none-any.whl.metadata (2.2 kB)\n",
      "Collecting jsonschema>=2.6 (from nbformat)\n",
      "  Using cached jsonschema-4.24.0-py3-none-any.whl.metadata (7.8 kB)\n",
      "Requirement already satisfied: jupyter-core!=5.0.*,>=4.12 in ./.venv/lib/python3.12/site-packages (from nbformat) (5.8.1)\n",
      "Requirement already satisfied: traitlets>=5.1 in ./.venv/lib/python3.12/site-packages (from nbformat) (5.14.3)\n",
      "Collecting attrs>=22.2.0 (from jsonschema>=2.6->nbformat)\n",
      "  Using cached attrs-25.3.0-py3-none-any.whl.metadata (10 kB)\n",
      "Collecting jsonschema-specifications>=2023.03.6 (from jsonschema>=2.6->nbformat)\n",
      "  Using cached jsonschema_specifications-2025.4.1-py3-none-any.whl.metadata (2.9 kB)\n",
      "Collecting referencing>=0.28.4 (from jsonschema>=2.6->nbformat)\n",
      "  Using cached referencing-0.36.2-py3-none-any.whl.metadata (2.8 kB)\n",
      "Collecting rpds-py>=0.7.1 (from jsonschema>=2.6->nbformat)\n",
      "  Using cached rpds_py-0.25.1-cp312-cp312-macosx_11_0_arm64.whl.metadata (4.1 kB)\n",
      "Requirement already satisfied: platformdirs>=2.5 in ./.venv/lib/python3.12/site-packages (from jupyter-core!=5.0.*,>=4.12->nbformat) (4.3.8)\n",
      "Requirement already satisfied: six>=1.5 in ./.venv/lib/python3.12/site-packages (from python-dateutil>=2.8.2->pandas) (1.17.0)\n",
      "Collecting typing-extensions>=4.4.0 (from referencing>=0.28.4->jsonschema>=2.6->nbformat)\n",
      "  Using cached typing_extensions-4.14.0-py3-none-any.whl.metadata (3.0 kB)\n",
      "Using cached pandas-2.3.0-cp312-cp312-macosx_11_0_arm64.whl (10.7 MB)\n",
      "Using cached matplotlib-3.10.3-cp312-cp312-macosx_11_0_arm64.whl (8.1 MB)\n",
      "Using cached seaborn-0.13.2-py3-none-any.whl (294 kB)\n",
      "Using cached plotly-6.1.2-py3-none-any.whl (16.3 MB)\n",
      "Using cached nbformat-5.10.4-py3-none-any.whl (78 kB)\n",
      "Using cached contourpy-1.3.2-cp312-cp312-macosx_11_0_arm64.whl (255 kB)\n",
      "Using cached cycler-0.12.1-py3-none-any.whl (8.3 kB)\n",
      "Using cached fastjsonschema-2.21.1-py3-none-any.whl (23 kB)\n",
      "Using cached fonttools-4.58.4-cp312-cp312-macosx_10_13_universal2.whl (2.8 MB)\n",
      "Using cached jsonschema-4.24.0-py3-none-any.whl (88 kB)\n",
      "Using cached attrs-25.3.0-py3-none-any.whl (63 kB)\n",
      "Using cached jsonschema_specifications-2025.4.1-py3-none-any.whl (18 kB)\n",
      "Using cached kiwisolver-1.4.8-cp312-cp312-macosx_11_0_arm64.whl (65 kB)\n",
      "Using cached narwhals-1.43.0-py3-none-any.whl (362 kB)\n",
      "Using cached numpy-2.3.0-cp312-cp312-macosx_14_0_arm64.whl (5.1 MB)\n",
      "Using cached pillow-11.2.1-cp312-cp312-macosx_11_0_arm64.whl (3.0 MB)\n",
      "Using cached pyparsing-3.2.3-py3-none-any.whl (111 kB)\n",
      "Using cached pytz-2025.2-py2.py3-none-any.whl (509 kB)\n",
      "Using cached referencing-0.36.2-py3-none-any.whl (26 kB)\n",
      "Using cached rpds_py-0.25.1-cp312-cp312-macosx_11_0_arm64.whl (350 kB)\n",
      "Using cached typing_extensions-4.14.0-py3-none-any.whl (43 kB)\n",
      "Using cached tzdata-2025.2-py2.py3-none-any.whl (347 kB)\n",
      "Installing collected packages: pytz, fastjsonschema, tzdata, typing-extensions, rpds-py, pyparsing, pillow, numpy, narwhals, kiwisolver, fonttools, cycler, attrs, referencing, plotly, pandas, contourpy, matplotlib, jsonschema-specifications, seaborn, jsonschema, nbformat\n",
      "\u001b[2K   \u001b[90m━━━━━━━━━━━━━━━━━━━━━━━━━━━━━━━━━━━━━━━━\u001b[0m \u001b[32m22/22\u001b[0m [nbformat]/22\u001b[0m [seaborn]ib]]\n",
      "\u001b[1A\u001b[2KSuccessfully installed attrs-25.3.0 contourpy-1.3.2 cycler-0.12.1 fastjsonschema-2.21.1 fonttools-4.58.4 jsonschema-4.24.0 jsonschema-specifications-2025.4.1 kiwisolver-1.4.8 matplotlib-3.10.3 narwhals-1.43.0 nbformat-5.10.4 numpy-2.3.0 pandas-2.3.0 pillow-11.2.1 plotly-6.1.2 pyparsing-3.2.3 pytz-2025.2 referencing-0.36.2 rpds-py-0.25.1 seaborn-0.13.2 typing-extensions-4.14.0 tzdata-2025.2\n",
      "Note: you may need to restart the kernel to use updated packages.\n"
     ]
    }
   ],
   "source": [
    "%pip install pandas matplotlib seaborn plotly nbformat"
   ]
  },
  {
   "cell_type": "code",
   "execution_count": null,
   "metadata": {},
   "outputs": [],
   "source": [
    "# Importar librerías necesarias\n",
    "\n",
    "import pandas as pd\n",
    "import matplotlib.pyplot as plt\n",
    "import seaborn as sns\n",
    "import plotly.graph_objects as go\n",
    "import plotly.express as px\n",
    "\n",
    "# Configurar estilos de gráficos para consistencia\n",
    "plt.style.use('seaborn-v0_8')\n",
    "sns.set_palette('deep')\n",
    "\n"
   ]
  },
  {
   "cell_type": "markdown",
   "metadata": {},
   "source": [
    "## 1. Carga y Limpieza de Datos\n",
    "\n",
    "Cargamos el archivo CSV y realizamos pasos de limpieza para garantizar la calidad de los datos:\n",
    "- Parseamos las fechas en `FECHA HECHO`.\n",
    "- Validamos que `CANTIDAD` sea un entero positivo.\n",
    "- Verificamos valores faltantes o inconsistentes en `ACCION`, `DEPARTAMENTO` y `MUNICIPIO`.\n",
    "- Eliminamos filas duplicadas o inválidas.\n"
   ]
  },
  {
   "cell_type": "code",
   "execution_count": 3,
   "metadata": {},
   "outputs": [
    {
     "name": "stdout",
     "output_type": "stream",
     "text": [
      "Primeras 5 filas del conjunto de datos:\n",
      "\n",
      "Información del Conjunto de Datos:\n",
      "<class 'pandas.core.frame.DataFrame'>\n",
      "RangeIndex: 20645 entries, 0 to 20644\n",
      "Data columns (total 7 columns):\n",
      " #   Column        Non-Null Count  Dtype \n",
      "---  ------        --------------  ----- \n",
      " 0   FECHA HECHO   20645 non-null  object\n",
      " 1   COD_DEPTO     20645 non-null  int64 \n",
      " 2   DEPARTAMENTO  20645 non-null  object\n",
      " 3   COD_MUNI      20645 non-null  int64 \n",
      " 4   MUNICIPIO     20645 non-null  object\n",
      " 5   ACCION        20645 non-null  object\n",
      " 6   CANTIDAD      20645 non-null  int64 \n",
      "dtypes: int64(3), object(4)\n",
      "memory usage: 1.1+ MB\n",
      "\n",
      "Valores Faltantes:\n",
      "\n",
      "Número de filas duplicadas: 4426\n",
      "\n",
      "Forma del conjunto de datos limpio: (16218, 7)\n"
     ]
    }
   ],
   "source": [
    "# Cargar el conjunto de datos\n",
    "df = pd.read_csv('data/AFECTACI_N_DE_MIEMBROS_DE_LA_FUERZA_P_BLICA_20250616.csv', encoding='utf-8')\n",
    "\n",
    "# Mostrar las primeras filas\n",
    "print(\"Primeras 5 filas del conjunto de datos:\")\n",
    "df.head()\n",
    "\n",
    "# Información básica\n",
    "print(\"\\nInformación del Conjunto de Datos:\")\n",
    "df.info()\n",
    "\n",
    "# Pasos de limpieza\n",
    "# Parsear fechas\n",
    "df['FECHA HECHO'] = pd.to_datetime(df['FECHA HECHO'], format='%d/%m/%Y', errors='coerce')\n",
    "\n",
    "# Validar CANTIDAD\n",
    "df['CANTIDAD'] = pd.to_numeric(df['CANTIDAD'], errors='coerce')\n",
    "df = df[df['CANTIDAD'] > 0]\n",
    "\n",
    "# Verificar valores faltantes\n",
    "print(\"\\nValores Faltantes:\")\n",
    "df.isnull().sum()\n",
    "\n",
    "# Eliminar filas con valores faltantes en columnas críticas\n",
    "df = df.dropna(subset=['FECHA HECHO', 'DEPARTAMENTO', 'MUNICIPIO', 'ACCION', 'CANTIDAD'])\n",
    "\n",
    "# Normalizar ACCION\n",
    "df['ACCION'] = df['ACCION'].str.strip().str.upper()\n",
    "acciones_validas = ['HERIDO', 'ASESINADO']\n",
    "df = df[df['ACCION'].isin(acciones_validas)]\n",
    "\n",
    "# Verificar duplicados\n",
    "duplicados = df.duplicated().sum()\n",
    "print(f\"\\nNúmero de filas duplicadas: {duplicados}\")\n",
    "df = df.drop_duplicates()\n",
    "\n",
    "# Forma final del conjunto\n",
    "print(f\"\\nForma del conjunto de datos limpio: {df.shape}\")\n"
   ]
  },
  {
   "cell_type": "markdown",
   "metadata": {},
   "source": [
    "## 2. Análisis Exploratorio de Datos (EDA)\n",
    "\n",
    "Calculamos estadísticas resumidas para entender el conjunto de datos:\n",
    "- Total de incidentes y personas afectadas.\n",
    "- Desglose por tipo de acción (`HERIDO` vs. `ASESINADO`).\n",
    "- Departamentos y municipios más afectados.\n",
    "- Rango temporal y distribución de incidentes.\n"
   ]
  },
  {
   "cell_type": "code",
   "execution_count": 4,
   "metadata": {},
   "outputs": [
    {
     "name": "stdout",
     "output_type": "stream",
     "text": [
      "Total de Incidentes: 16218\n",
      "Total de Personas Afectadas: 19715\n",
      "\n",
      "Personas Afectadas por Tipo de Acción:\n",
      "ACCION\n",
      "ASESINADO     2648\n",
      "HERIDO       17067\n",
      "Name: CANTIDAD, dtype: int64\n",
      "\n",
      "Top 5 Departamentos por Personas Afectadas:\n",
      "DEPARTAMENTO\n",
      "VALLE DEL CAUCA       3009\n",
      "ANTIOQUIA             2392\n",
      "BOGOTA D.C.           2027\n",
      "CAUCA                 1495\n",
      "NORTE DE SANTANDER    1197\n",
      "Name: CANTIDAD, dtype: int64\n",
      "\n",
      "Top 5 Municipios por Personas Afectadas:\n",
      "MUNICIPIO\n",
      "BOGOTA, D.C.            2003\n",
      "CALI                    1736\n",
      "MEDELLIN                 510\n",
      "SAN ANDRES DE TUMACO     368\n",
      "NEIVA                    299\n",
      "Name: CANTIDAD, dtype: int64\n",
      "\n",
      "Rango Temporal: 2010-01-01 00:00:00 al 2025-04-30 00:00:00\n"
     ]
    }
   ],
   "source": [
    "# Estadísticas resumidas\n",
    "total_incidentes = len(df)\n",
    "total_afectados = df['CANTIDAD'].sum()\n",
    "conteo_acciones = df.groupby('ACCION')['CANTIDAD'].sum()\n",
    "top_departamentos = df.groupby('DEPARTAMENTO')['CANTIDAD'].sum().nlargest(5)\n",
    "top_municipios = df.groupby('MUNICIPIO')['CANTIDAD'].sum().nlargest(5)\n",
    "\n",
    "print(f\"Total de Incidentes: {total_incidentes}\")\n",
    "print(f\"Total de Personas Afectadas: {total_afectados}\")\n",
    "print(\"\\nPersonas Afectadas por Tipo de Acción:\")\n",
    "print(conteo_acciones)\n",
    "print(\"\\nTop 5 Departamentos por Personas Afectadas:\")\n",
    "print(top_departamentos)\n",
    "print(\"\\nTop 5 Municipios por Personas Afectadas:\")\n",
    "print(top_municipios)\n",
    "\n",
    "# Rango temporal\n",
    "fecha_min = df['FECHA HECHO'].min()\n",
    "fecha_max = df['FECHA HECHO'].max()\n",
    "print(f\"\\nRango Temporal: {fecha_min} al {fecha_max}\")\n"
   ]
  },
  {
   "cell_type": "markdown",
   "metadata": {},
   "source": [
    "## 3. Graficas \n",
    "\n",
    "1. **Gráfico de Líneas**: Incidentes a lo largo del tiempo (por año).\n",
    "2. **Gráfico de Barras**: 10 departamentos más afectados.\n",
    "3. **Gráfico de Barras Apiladas**: Heridos vs. asesinados por año.\n",
    "4. **Gráfico de Pastel**: Proporción de heridos vs. asesinados.\n",
    "\n"
   ]
  },
  {
   "cell_type": "markdown",
   "metadata": {},
   "source": [
    "### 3.1 Gráfico de Líneas: Incidentes a lo Largo del Tiempo\n",
    "\n",
    "**Propósito**: Mostrar la tendencia de incidentes que afectan a la fuerza pública entre 2010 y 2025.\n"
   ]
  },
  {
   "cell_type": "code",
   "execution_count": 5,
   "metadata": {},
   "outputs": [
    {
     "data": {
      "image/png": "[encoded data removed]",
      "text/plain": [
       "<Figure size 1000x600 with 1 Axes>"
      ]
     },
     "metadata": {},
     "output_type": "display_data"
    },
    {
     "name": "stdout",
     "output_type": "stream",
     "text": [
      "Hallazgo: El gráfico de líneas muestra fluctuaciones en los incidentes, con posibles picos en ciertos años, lo que sugiere variaciones en los niveles de violencia contra la fuerza pública.\n"
     ]
    }
   ],
   "source": [
    "# Agregar por año\n",
    "df['Año'] = df['FECHA HECHO'].dt.year\n",
    "datos_anuales = df.groupby('Año')['CANTIDAD'].sum().reset_index()\n",
    "\n",
    "# Graficar\n",
    "plt.figure(figsize=(10, 6))\n",
    "sns.lineplot(data=datos_anuales, x='Año', y='CANTIDAD', marker='o')\n",
    "plt.title('Incidentes que Afectan a la Fuerza Pública por Año (2010–2025)', fontsize=14)\n",
    "plt.xlabel('Año', fontsize=12)\n",
    "plt.ylabel('Número de Personas Afectadas', fontsize=12)\n",
    "plt.xticks(datos_anuales['Año'], rotation=45)\n",
    "plt.grid(True)\n",
    "plt.tight_layout()\n",
    "plt.show()\n",
    "\n",
    "print(\"Hallazgo: El gráfico de líneas muestra fluctuaciones en los incidentes, con posibles picos en ciertos años, lo que sugiere variaciones en los niveles de violencia contra la fuerza pública.\")\n"
   ]
  },
  {
   "cell_type": "markdown",
   "metadata": {},
   "source": [
    "### 3.2 Gráfico de Barras: Top 10 Departamentos\n",
    "\n",
    "**Propósito**: Identificar los departamentos con mayor número de personas afectadas.\n"
   ]
  },
  {
   "cell_type": "code",
   "execution_count": 6,
   "metadata": {},
   "outputs": [
    {
     "data": {
      "image/png": "[encoded data removed]",
      "text/plain": [
       "<Figure size 1200x600 with 1 Axes>"
      ]
     },
     "metadata": {},
     "output_type": "display_data"
    },
    {
     "name": "stdout",
     "output_type": "stream",
     "text": [
      "Hallazgo: Departamentos como Cauca y Valle del Cauca están entre los más afectados, lo que indica desafíos significativos de seguridad en estas regiones.\n"
     ]
    }
   ],
   "source": [
    "# Agregar por departamento\n",
    "datos_dept = df.groupby('DEPARTAMENTO')['CANTIDAD'].sum().nlargest(10).reset_index()\n",
    "\n",
    "# Graficar\n",
    "plt.figure(figsize=(12, 6))\n",
    "sns.barplot(data=datos_dept, x='CANTIDAD', y='DEPARTAMENTO')\n",
    "plt.title('Top 10 Departamentos por Personas Afectadas en la Fuerza Pública', fontsize=14)\n",
    "plt.xlabel('Número de Personas Afectadas', fontsize=12)\n",
    "plt.ylabel('Departamento', fontsize=12)\n",
    "plt.tight_layout()\n",
    "plt.show()\n",
    "\n",
    "print(\"Hallazgo: Departamentos como Cauca y Valle del Cauca están entre los más afectados, lo que indica desafíos significativos de seguridad en estas regiones.\")\n"
   ]
  },
  {
   "cell_type": "markdown",
   "metadata": {},
   "source": [
    "### 3.3 Gráfico de Barras Apiladas: Heridos vs. Asesinados por Año\n",
    "\n",
    "**Propósito**: Comparar el número de heridos y asesinados a lo largo del tiempo.\n"
   ]
  },
  {
   "cell_type": "code",
   "execution_count": 7,
   "metadata": {},
   "outputs": [
    {
     "data": {
      "application/vnd.plotly.v1+json": {
       "config": {
        "plotlyServerURL": "https://plot.ly"
       },
       "data": [
        {
         "marker": {
          "color": "blue"
         },
         "name": "Heridos (HERIDO)",
         "type": "bar",
         "x": {
          "bdata": "2gcAANsHAADcBwAA3QcAAN4HAADfBwAA4AcAAOEHAADiBwAA4wcAAOQHAADlBwAA5gcAAOcHAADoBwAA6QcAAA==",
          "dtype": "i4"
         },
         "y": {
          "bdata": "GgawBmkHLAjmBiEGowSkA8wCngJXAtoCJQJyAdEB+wA=",
          "dtype": "i2"
         }
        },
        {
         "marker": {
          "color": "red"
         },
         "name": "Asesinados (ASESINADO)",
         "type": "bar",
         "x": {
          "bdata": "2gcAANsHAADcBwAA3QcAAN4HAADfBwAA4AcAAOEHAADiBwAA4wcAAOQHAADlBwAA5gcAAOcHAADoBwAA6QcAAA==",
          "dtype": "i4"
         },
         "y": {
          "bdata": "fgG5AScB/AD8AIYAaABPAFkAUgBOAHEAawBPAGAAQQA=",
          "dtype": "i2"
         }
        }
       ],
       "layout": {
        "barmode": "stack",
        "legend": {
         "x": 0.8,
         "y": 1.1
        },
        "template": {
         "data": {
          "bar": [
           {
            "error_x": {
             "color": "#2a3f5f"
            },
            "error_y": {
             "color": "#2a3f5f"
            },
            "marker": {
             "line": {
              "color": "white",
              "width": 0.5
             },
             "pattern": {
              "fillmode": "overlay",
              "size": 10,
              "solidity": 0.2
             }
            },
            "type": "bar"
           }
          ],
          "barpolar": [
           {
            "marker": {
             "line": {
              "color": "white",
              "width": 0.5
             },
             "pattern": {
              "fillmode": "overlay",
              "size": 10,
              "solidity": 0.2
             }
            },
            "type": "barpolar"
           }
          ],
          "carpet": [
           {
            "aaxis": {
             "endlinecolor": "#2a3f5f",
             "gridcolor": "#C8D4E3",
             "linecolor": "#C8D4E3",
             "minorgridcolor": "#C8D4E3",
             "startlinecolor": "#2a3f5f"
            },
            "baxis": {
             "endlinecolor": "#2a3f5f",
             "gridcolor": "#C8D4E3",
             "linecolor": "#C8D4E3",
             "minorgridcolor": "#C8D4E3",
             "startlinecolor": "#2a3f5f"
            },
            "type": "carpet"
           }
          ],
          "choropleth": [
           {
            "colorbar": {
             "outlinewidth": 0,
             "ticks": ""
            },
            "type": "choropleth"
           }
          ],
          "contour": [
           {
            "colorbar": {
             "outlinewidth": 0,
             "ticks": ""
            },
            "colorscale": [
             [
              0,
              "#0d0887"
             ],
             [
              0.1111111111111111,
              "#46039f"
             ],
             [
              0.2222222222222222,
              "#7201a8"
             ],
             [
              0.3333333333333333,
              "#9c179e"
             ],
             [
              0.4444444444444444,
              "#bd3786"
             ],
             [
              0.5555555555555556,
              "#d8576b"
             ],
             [
              0.6666666666666666,
              "#ed7953"
             ],
             [
              0.7777777777777778,
              "#fb9f3a"
             ],
             [
              0.8888888888888888,
              "#fdca26"
             ],
             [
              1,
              "#f0f921"
             ]
            ],
            "type": "contour"
           }
          ],
          "contourcarpet": [
           {
            "colorbar": {
             "outlinewidth": 0,
             "ticks": ""
            },
            "type": "contourcarpet"
           }
          ],
          "heatmap": [
           {
            "colorbar": {
             "outlinewidth": 0,
             "ticks": ""
            },
            "colorscale": [
             [
              0,
              "#0d0887"
             ],
             [
              0.1111111111111111,
              "#46039f"
             ],
             [
              0.2222222222222222,
              "#7201a8"
             ],
             [
              0.3333333333333333,
              "#9c179e"
             ],
             [
              0.4444444444444444,
              "#bd3786"
             ],
             [
              0.5555555555555556,
              "#d8576b"
             ],
             [
              0.6666666666666666,
              "#ed7953"
             ],
             [
              0.7777777777777778,
              "#fb9f3a"
             ],
             [
              0.8888888888888888,
              "#fdca26"
             ],
             [
              1,
              "#f0f921"
             ]
            ],
            "type": "heatmap"
           }
          ],
          "histogram": [
           {
            "marker": {
             "pattern": {
              "fillmode": "overlay",
              "size": 10,
              "solidity": 0.2
             }
            },
            "type": "histogram"
           }
          ],
          "histogram2d": [
           {
            "colorbar": {
             "outlinewidth": 0,
             "ticks": ""
            },
            "colorscale": [
             [
              0,
              "#0d0887"
             ],
             [
              0.1111111111111111,
              "#46039f"
             ],
             [
              0.2222222222222222,
              "#7201a8"
             ],
             [
              0.3333333333333333,
              "#9c179e"
             ],
             [
              0.4444444444444444,
              "#bd3786"
             ],
             [
              0.5555555555555556,
              "#d8576b"
             ],
             [
              0.6666666666666666,
              "#ed7953"
             ],
             [
              0.7777777777777778,
              "#fb9f3a"
             ],
             [
              0.8888888888888888,
              "#fdca26"
             ],
             [
              1,
              "#f0f921"
             ]
            ],
            "type": "histogram2d"
           }
          ],
          "histogram2dcontour": [
           {
            "colorbar": {
             "outlinewidth": 0,
             "ticks": ""
            },
            "colorscale": [
             [
              0,
              "#0d0887"
             ],
             [
              0.1111111111111111,
              "#46039f"
             ],
             [
              0.2222222222222222,
              "#7201a8"
             ],
             [
              0.3333333333333333,
              "#9c179e"
             ],
             [
              0.4444444444444444,
              "#bd3786"
             ],
             [
              0.5555555555555556,
              "#d8576b"
             ],
             [
              0.6666666666666666,
              "#ed7953"
             ],
             [
              0.7777777777777778,
              "#fb9f3a"
             ],
             [
              0.8888888888888888,
              "#fdca26"
             ],
             [
              1,
              "#f0f921"
             ]
            ],
            "type": "histogram2dcontour"
           }
          ],
          "mesh3d": [
           {
            "colorbar": {
             "outlinewidth": 0,
             "ticks": ""
            },
            "type": "mesh3d"
           }
          ],
          "parcoords": [
           {
            "line": {
             "colorbar": {
              "outlinewidth": 0,
              "ticks": ""
             }
            },
            "type": "parcoords"
           }
          ],
          "pie": [
           {
            "automargin": true,
            "type": "pie"
           }
          ],
          "scatter": [
           {
            "fillpattern": {
             "fillmode": "overlay",
             "size": 10,
             "solidity": 0.2
            },
            "type": "scatter"
           }
          ],
          "scatter3d": [
           {
            "line": {
             "colorbar": {
              "outlinewidth": 0,
              "ticks": ""
             }
            },
            "marker": {
             "colorbar": {
              "outlinewidth": 0,
              "ticks": ""
             }
            },
            "type": "scatter3d"
           }
          ],
          "scattercarpet": [
           {
            "marker": {
             "colorbar": {
              "outlinewidth": 0,
              "ticks": ""
             }
            },
            "type": "scattercarpet"
           }
          ],
          "scattergeo": [
           {
            "marker": {
             "colorbar": {
              "outlinewidth": 0,
              "ticks": ""
             }
            },
            "type": "scattergeo"
           }
          ],
          "scattergl": [
           {
            "marker": {
             "colorbar": {
              "outlinewidth": 0,
              "ticks": ""
             }
            },
            "type": "scattergl"
           }
          ],
          "scattermap": [
           {
            "marker": {
             "colorbar": {
              "outlinewidth": 0,
              "ticks": ""
             }
            },
            "type": "scattermap"
           }
          ],
          "scattermapbox": [
           {
            "marker": {
             "colorbar": {
              "outlinewidth": 0,
              "ticks": ""
             }
            },
            "type": "scattermapbox"
           }
          ],
          "scatterpolar": [
           {
            "marker": {
             "colorbar": {
              "outlinewidth": 0,
              "ticks": ""
             }
            },
            "type": "scatterpolar"
           }
          ],
          "scatterpolargl": [
           {
            "marker": {
             "colorbar": {
              "outlinewidth": 0,
              "ticks": ""
             }
            },
            "type": "scatterpolargl"
           }
          ],
          "scatterternary": [
           {
            "marker": {
             "colorbar": {
              "outlinewidth": 0,
              "ticks": ""
             }
            },
            "type": "scatterternary"
           }
          ],
          "surface": [
           {
            "colorbar": {
             "outlinewidth": 0,
             "ticks": ""
            },
            "colorscale": [
             [
              0,
              "#0d0887"
             ],
             [
              0.1111111111111111,
              "#46039f"
             ],
             [
              0.2222222222222222,
              "#7201a8"
             ],
             [
              0.3333333333333333,
              "#9c179e"
             ],
             [
              0.4444444444444444,
              "#bd3786"
             ],
             [
              0.5555555555555556,
              "#d8576b"
             ],
             [
              0.6666666666666666,
              "#ed7953"
             ],
             [
              0.7777777777777778,
              "#fb9f3a"
             ],
             [
              0.8888888888888888,
              "#fdca26"
             ],
             [
              1,
              "#f0f921"
             ]
            ],
            "type": "surface"
           }
          ],
          "table": [
           {
            "cells": {
             "fill": {
              "color": "#EBF0F8"
             },
             "line": {
              "color": "white"
             }
            },
            "header": {
             "fill": {
              "color": "#C8D4E3"
             },
             "line": {
              "color": "white"
             }
            },
            "type": "table"
           }
          ]
         },
         "layout": {
          "annotationdefaults": {
           "arrowcolor": "#2a3f5f",
           "arrowhead": 0,
           "arrowwidth": 1
          },
          "autotypenumbers": "strict",
          "coloraxis": {
           "colorbar": {
            "outlinewidth": 0,
            "ticks": ""
           }
          },
          "colorscale": {
           "diverging": [
            [
             0,
             "#8e0152"
            ],
            [
             0.1,
             "#c51b7d"
            ],
            [
             0.2,
             "#de77ae"
            ],
            [
             0.3,
             "#f1b6da"
            ],
            [
             0.4,
             "#fde0ef"
            ],
            [
             0.5,
             "#f7f7f7"
            ],
            [
             0.6,
             "#e6f5d0"
            ],
            [
             0.7,
             "#b8e186"
            ],
            [
             0.8,
             "#7fbc41"
            ],
            [
             0.9,
             "#4d9221"
            ],
            [
             1,
             "#276419"
            ]
           ],
           "sequential": [
            [
             0,
             "#0d0887"
            ],
            [
             0.1111111111111111,
             "#46039f"
            ],
            [
             0.2222222222222222,
             "#7201a8"
            ],
            [
             0.3333333333333333,
             "#9c179e"
            ],
            [
             0.4444444444444444,
             "#bd3786"
            ],
            [
             0.5555555555555556,
             "#d8576b"
            ],
            [
             0.6666666666666666,
             "#ed7953"
            ],
            [
             0.7777777777777778,
             "#fb9f3a"
            ],
            [
             0.8888888888888888,
             "#fdca26"
            ],
            [
             1,
             "#f0f921"
            ]
           ],
           "sequentialminus": [
            [
             0,
             "#0d0887"
            ],
            [
             0.1111111111111111,
             "#46039f"
            ],
            [
             0.2222222222222222,
             "#7201a8"
            ],
            [
             0.3333333333333333,
             "#9c179e"
            ],
            [
             0.4444444444444444,
             "#bd3786"
            ],
            [
             0.5555555555555556,
             "#d8576b"
            ],
            [
             0.6666666666666666,
             "#ed7953"
            ],
            [
             0.7777777777777778,
             "#fb9f3a"
            ],
            [
             0.8888888888888888,
             "#fdca26"
            ],
            [
             1,
             "#f0f921"
            ]
           ]
          },
          "colorway": [
           "#636efa",
           "#EF553B",
           "#00cc96",
           "#ab63fa",
           "#FFA15A",
           "#19d3f3",
           "#FF6692",
           "#B6E880",
           "#FF97FF",
           "#FECB52"
          ],
          "font": {
           "color": "#2a3f5f"
          },
          "geo": {
           "bgcolor": "white",
           "lakecolor": "white",
           "landcolor": "white",
           "showlakes": true,
           "showland": true,
           "subunitcolor": "#C8D4E3"
          },
          "hoverlabel": {
           "align": "left"
          },
          "hovermode": "closest",
          "mapbox": {
           "style": "light"
          },
          "paper_bgcolor": "white",
          "plot_bgcolor": "white",
          "polar": {
           "angularaxis": {
            "gridcolor": "#EBF0F8",
            "linecolor": "#EBF0F8",
            "ticks": ""
           },
           "bgcolor": "white",
           "radialaxis": {
            "gridcolor": "#EBF0F8",
            "linecolor": "#EBF0F8",
            "ticks": ""
           }
          },
          "scene": {
           "xaxis": {
            "backgroundcolor": "white",
            "gridcolor": "#DFE8F3",
            "gridwidth": 2,
            "linecolor": "#EBF0F8",
            "showbackground": true,
            "ticks": "",
            "zerolinecolor": "#EBF0F8"
           },
           "yaxis": {
            "backgroundcolor": "white",
            "gridcolor": "#DFE8F3",
            "gridwidth": 2,
            "linecolor": "#EBF0F8",
            "showbackground": true,
            "ticks": "",
            "zerolinecolor": "#EBF0F8"
           },
           "zaxis": {
            "backgroundcolor": "white",
            "gridcolor": "#DFE8F3",
            "gridwidth": 2,
            "linecolor": "#EBF0F8",
            "showbackground": true,
            "ticks": "",
            "zerolinecolor": "#EBF0F8"
           }
          },
          "shapedefaults": {
           "line": {
            "color": "#2a3f5f"
           }
          },
          "ternary": {
           "aaxis": {
            "gridcolor": "#DFE8F3",
            "linecolor": "#A2B1C6",
            "ticks": ""
           },
           "baxis": {
            "gridcolor": "#DFE8F3",
            "linecolor": "#A2B1C6",
            "ticks": ""
           },
           "bgcolor": "white",
           "caxis": {
            "gridcolor": "#DFE8F3",
            "linecolor": "#A2B1C6",
            "ticks": ""
           }
          },
          "title": {
           "x": 0.05
          },
          "xaxis": {
           "automargin": true,
           "gridcolor": "#EBF0F8",
           "linecolor": "#EBF0F8",
           "ticks": "",
           "title": {
            "standoff": 15
           },
           "zerolinecolor": "#EBF0F8",
           "zerolinewidth": 2
          },
          "yaxis": {
           "automargin": true,
           "gridcolor": "#EBF0F8",
           "linecolor": "#EBF0F8",
           "ticks": "",
           "title": {
            "standoff": 15
           },
           "zerolinecolor": "#EBF0F8",
           "zerolinewidth": 2
          }
         }
        },
        "title": {
         "text": "Heridos vs. Asesinados en la Fuerza Pública por Año (2010–2025)"
        },
        "xaxis": {
         "tickmode": "linear",
         "title": {
          "text": "Año"
         }
        },
        "yaxis": {
         "title": {
          "text": "Número de Personas Afectadas"
         }
        }
       }
      }
     },
     "metadata": {},
     "output_type": "display_data"
    },
    {
     "name": "stdout",
     "output_type": "stream",
     "text": [
      "Hallazgo: Los heridos superan consistentemente a los asesinados, pero ciertos años muestran picos en asesinatos, indicando períodos de mayor violencia.\n"
     ]
    }
   ],
   "source": [
    "\n",
    "# Pivotar datos\n",
    "datos_apilados = df.pivot_table(index='Año', columns='ACCION', values='CANTIDAD', aggfunc='sum', fill_value=0).reset_index()\n",
    "\n",
    "# Crear gráfico de barras apiladas\n",
    "fig = go.Figure(data=[\n",
    "    go.Bar(name='Heridos (HERIDO)', x=datos_apilados['Año'], y=datos_apilados.get('HERIDO', 0), marker_color='blue'),\n",
    "    go.Bar(name='Asesinados (ASESINADO)', x=datos_apilados['Año'], y=datos_apilados.get('ASESINADO', 0), marker_color='red')\n",
    "])\n",
    "\n",
    "# Actualizar diseño\n",
    "fig.update_layout(\n",
    "    barmode='stack',\n",
    "    title='Heridos vs. Asesinados en la Fuerza Pública por Año (2010–2025)',\n",
    "    xaxis_title='Año',\n",
    "    yaxis_title='Número de Personas Afectadas',\n",
    "    xaxis=dict(tickmode='linear'),\n",
    "    legend=dict(x=0.8, y=1.1),\n",
    "    template='plotly_white'\n",
    ")\n",
    "\n",
    "fig.show()\n",
    "\n",
    "print(\"Hallazgo: Los heridos superan consistentemente a los asesinados, pero ciertos años muestran picos en asesinatos, indicando períodos de mayor violencia.\")\n"
   ]
  },
  {
   "cell_type": "markdown",
   "metadata": {},
   "source": [
    "### 3.4 Gráfico de Pastel: Proporción de Heridos vs. Asesinados\n",
    "\n",
    "**Propósito**: Mostrar la distribución general de heridos vs. asesinados.\n"
   ]
  },
  {
   "cell_type": "code",
   "execution_count": null,
   "metadata": {},
   "outputs": [
    {
     "ename": "NameError",
     "evalue": "name 'px' is not defined",
     "output_type": "error",
     "traceback": [
      "\u001b[31m---------------------------------------------------------------------------\u001b[39m",
      "\u001b[31mNameError\u001b[39m                                 Traceback (most recent call last)",
      "\u001b[36mCell\u001b[39m\u001b[36m \u001b[39m\u001b[32mIn[8]\u001b[39m\u001b[32m, line 5\u001b[39m\n\u001b[32m      2\u001b[39m datos_pastel = df.groupby(\u001b[33m'\u001b[39m\u001b[33mACCION\u001b[39m\u001b[33m'\u001b[39m)[\u001b[33m'\u001b[39m\u001b[33mCANTIDAD\u001b[39m\u001b[33m'\u001b[39m].sum().reset_index()\n\u001b[32m      4\u001b[39m \u001b[38;5;66;03m# Crear gráfico de pastel\u001b[39;00m\n\u001b[32m----> \u001b[39m\u001b[32m5\u001b[39m fig = \u001b[43mpx\u001b[49m.pie(datos_pastel, values=\u001b[33m'\u001b[39m\u001b[33mCANTIDAD\u001b[39m\u001b[33m'\u001b[39m, names=\u001b[33m'\u001b[39m\u001b[33mACCION\u001b[39m\u001b[33m'\u001b[39m, title=\u001b[33m'\u001b[39m\u001b[33mProporción de Heridos vs. Asesinados (2010–2025)\u001b[39m\u001b[33m'\u001b[39m,\n\u001b[32m      6\u001b[39m              color=\u001b[33m'\u001b[39m\u001b[33mACCION\u001b[39m\u001b[33m'\u001b[39m, color_discrete_map={\u001b[33m'\u001b[39m\u001b[33mHERIDO\u001b[39m\u001b[33m'\u001b[39m: \u001b[33m'\u001b[39m\u001b[33mblue\u001b[39m\u001b[33m'\u001b[39m, \u001b[33m'\u001b[39m\u001b[33mASESINADO\u001b[39m\u001b[33m'\u001b[39m: \u001b[33m'\u001b[39m\u001b[33mred\u001b[39m\u001b[33m'\u001b[39m})\n\u001b[32m      7\u001b[39m fig.update_traces(textposition=\u001b[33m'\u001b[39m\u001b[33minside\u001b[39m\u001b[33m'\u001b[39m, textinfo=\u001b[33m'\u001b[39m\u001b[33mpercent+label\u001b[39m\u001b[33m'\u001b[39m)\n\u001b[32m      8\u001b[39m fig.update_layout(template=\u001b[33m'\u001b[39m\u001b[33mplotly_white\u001b[39m\u001b[33m'\u001b[39m)\n",
      "\u001b[31mNameError\u001b[39m: name 'px' is not defined"
     ]
    }
   ],
   "source": [
    "\n",
    "\n",
    "# Agregar por acción\n",
    "datos_pastel = df.groupby('ACCION')['CANTIDAD'].sum().reset_index()\n",
    "\n",
    "# Crear gráfico de pastel\n",
    "fig = px.pie(datos_pastel, values='CANTIDAD', names='ACCION', title='Proporción de Heridos vs. Asesinados (2010–2025)',\n",
    "             color='ACCION', color_discrete_map={'HERIDO': 'blue', 'ASESINADO': 'red'})\n",
    "fig.update_traces(textposition='inside', textinfo='percent+label')\n",
    "fig.update_layout(template='plotly_white')\n",
    "fig.show()\n",
    "\n",
    "print(\"Hallazgo: La mayoría de los incidentes resultan en heridos en lugar de asesinatos, destacando la prevalencia de ataques no letales.\")\n"
   ]
  },
  {
   "cell_type": "markdown",
   "metadata": {},
   "source": [
    "## 4. Hallazgo Interesante\n",
    "\n",
    "Analizamos el municipio más afectado por número de personas.\n"
   ]
  },
  {
   "cell_type": "code",
   "execution_count": null,
   "metadata": {},
   "outputs": [],
   "source": [
    "# Calcular municipio más afectado\n",
    "datos_muni = df.groupby('MUNICIPIO')['CANTIDAD'].sum()\n",
    "muni_top = datos_muni.idxmax()\n",
    "muni_top_conteo = datos_muni.max()\n",
    "total_afectados = datos_muni.sum()\n",
    "porcentaje = (muni_top_conteo / total_afectados * 100).round(1)\n",
    "\n",
    "print(f\"Hallazgo Interesante: {muni_top} es el municipio con el mayor número de personas afectadas en la fuerza pública, con {muni_top_conteo} individuos ({porcentaje}% del total). Esto sugiere que {muni_top} es un punto crítico de violencia contra la fuerza pública.\")\n"
   ]
  },
  {
   "cell_type": "markdown",
   "metadata": {},
   "source": [
    "## 5. Conclusión y Recomendaciones\n",
    "\n",
    "### Resumen de Hallazgos\n",
    "- **Tendencias Temporales**: Los incidentes fluctúan durante el período de 15 años, con picos significativos en ciertos años.\n",
    "- **Gravedad**: Los heridos son más comunes que los asesinados, pero las muertes siguen siendo una preocupación en años y regiones específicas.\n",
    "\n",
    "### Recomendaciones\n",
    "1. **Medidas de Seguridad Específicas**: Desplegar recursos adicionales en áreas de alto riesgo.\n",
    "2. **Análisis Temporal**: Investigar los años con picos de incidentes para entender las causas subyacentes (ej., disturbios políticos, actividad de grupos armados).\n",
    "3. **Capacitación y Equipos**: Mejorar la capacitación y proporcionar mejor equipo de protección para reducir heridos y asesinados.\n",
    "4. **Monitoreo de Datos**: Continuar recolectando y analizando datos para evaluar la efectividad de las intervenciones.\n",
    "\n",
    "### Trabajo Futuro\n",
    "- Incorporar datos externos (ej., eventos de conflicto, factores socioeconómicos) para contextualizar los incidentes.\n",
    "- Usar aprendizaje automático para predecir áreas y momentos de alto riesgo.\n",
    "- Crear un tablero interactivo para monitoreo en tiempo real.\n"
   ]
  }
 ],
 "metadata": {
  "kernelspec": {
   "display_name": ".venv",
   "language": "python",
   "name": "python3"
  },
  "language_info": {
   "codemirror_mode": {
    "name": "ipython",
    "version": 3
   },
   "file_extension": ".py",
   "mimetype": "text/x-python",
   "name": "python",
   "nbconvert_exporter": "python",
   "pygments_lexer": "ipython3",
   "version": "3.12.8"
  }
 },
 "nbformat": 4,
 "nbformat_minor": 4
}
