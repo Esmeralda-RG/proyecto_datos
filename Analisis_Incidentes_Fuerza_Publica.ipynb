{
 "cells": [
  {
   "cell_type": "markdown",
   "metadata": {},
   "source": [
    "# Análisis de Incidentes que Afectan a Miembros de la Fuerza Pública Colombiana (2010–2025)\n",
    "\n",
    "## Informe de Proyecto Final\n",
    "\n",
    "### Introducción\n",
    "Este cuaderno analiza un conjunto de datos que registra incidentes que afectan a miembros de la fuerza pública colombiana desde enero de 2010 hasta abril de 2025. El conjunto incluye detalles como la fecha, ubicación (departamento y municipio), tipo de acción (herido o asesinado) y la cantidad de personas afectadas. El objetivo es identificar tendencias temporales, zonas de mayor riesgo y la gravedad de los incidentes.\n",
    "\n",
    "### Descripción del Conjunto de Datos\n",
    "- **Fuente**: `AFECTACI_N_DE_MIEMBROS_DE_LA_FUERZA_P_BLICA_20250616.csv`\n",
    "- **Columnas**:\n",
    "  - `FECHA HECHO`: Fecha del incidente (DD/MM/YYYY).\n",
    "  - `COD_DEPTO`: Código del departamento (numérico).\n",
    "  - `DEPARTAMENTO`: Nombre del departamento (cadena).\n",
    "  - `COD_MUNI`: Código del municipio (numérico).\n",
    "  - `MUNICIPIO`: Nombre del municipio (cadena).\n",
    "  - `ACCION`: Tipo de acción (`HERIDO` para heridos, `ASESINADO` para asesinados).\n",
    "  - `CANTIDAD`: Número de personas afectadas (numérico).\n",
    "- **Período**: 1 de enero de 2010 al 30 de abril de 2025.\n",
    "\n",
    "### Objetivos\n",
    "- Identificar tendencias en los incidentes a lo largo del tiempo.\n",
    "- Determinar los departamentos y municipios más afectados.\n",
    "- Comparar la frecuencia y gravedad de heridos vs. asesinados.\n",
    "- Resaltar un hallazgo interesante.\n"
   ]
  },
  {
   "cell_type": "code",
   "execution_count": null,
   "metadata": {},
   "outputs": [],
   "source": [
    "%pip install pandas matplotlib seaborn"
   ]
  },
  {
   "cell_type": "code",
   "execution_count": null,
   "metadata": {},
   "outputs": [],
   "source": [
    "# Importar librerías necesarias\n",
    "\n",
    "import pandas as pd\n",
    "import matplotlib.pyplot as plt\n",
    "import seaborn as sns\n",
    "import plotly.express as px\n",
    "import plotly.graph_objects as go\n",
    "from datetime import datetime\n",
    "\n",
    "# Configurar estilos de gráficos para consistencia\n",
    "plt.style.use('seaborn-v0_8')\n",
    "sns.set_palette('deep')\n",
    "\n"
   ]
  },
  {
   "cell_type": "markdown",
   "metadata": {},
   "source": [
    "## 1. Carga y Limpieza de Datos\n",
    "\n",
    "Cargamos el archivo CSV y realizamos pasos de limpieza para garantizar la calidad de los datos:\n",
    "- Parseamos las fechas en `FECHA HECHO`.\n",
    "- Validamos que `CANTIDAD` sea un entero positivo.\n",
    "- Verificamos valores faltantes o inconsistentes en `ACCION`, `DEPARTAMENTO` y `MUNICIPIO`.\n",
    "- Eliminamos filas duplicadas o inválidas.\n"
   ]
  },
  {
   "cell_type": "code",
   "execution_count": null,
   "metadata": {},
   "outputs": [
    {
     "name": "stdout",
     "output_type": "stream",
     "text": [
      "Primeras 5 filas del conjunto de datos:\n"
     ]
    },
    {
     "data": {
      "text/html": [
       "<div>\n",
       "<style scoped>\n",
       "    .dataframe tbody tr th:only-of-type {\n",
       "        vertical-align: middle;\n",
       "    }\n",
       "\n",
       "    .dataframe tbody tr th {\n",
       "        vertical-align: top;\n",
       "    }\n",
       "\n",
       "    .dataframe thead th {\n",
       "        text-align: right;\n",
       "    }\n",
       "</style>\n",
       "<table border=\"1\" class=\"dataframe\">\n",
       "  <thead>\n",
       "    <tr style=\"text-align: right;\">\n",
       "      <th></th>\n",
       "      <th>FECHA HECHO</th>\n",
       "      <th>COD_DEPTO</th>\n",
       "      <th>DEPARTAMENTO</th>\n",
       "      <th>COD_MUNI</th>\n",
       "      <th>MUNICIPIO</th>\n",
       "      <th>ACCION</th>\n",
       "      <th>CANTIDAD</th>\n",
       "    </tr>\n",
       "  </thead>\n",
       "  <tbody>\n",
       "    <tr>\n",
       "      <th>0</th>\n",
       "      <td>01/01/2010</td>\n",
       "      <td>50</td>\n",
       "      <td>META</td>\n",
       "      <td>50350</td>\n",
       "      <td>LA MACARENA</td>\n",
       "      <td>HERIDO</td>\n",
       "      <td>1</td>\n",
       "    </tr>\n",
       "    <tr>\n",
       "      <th>1</th>\n",
       "      <td>01/01/2010</td>\n",
       "      <td>27</td>\n",
       "      <td>CHOCO</td>\n",
       "      <td>27787</td>\n",
       "      <td>TADO</td>\n",
       "      <td>HERIDO</td>\n",
       "      <td>1</td>\n",
       "    </tr>\n",
       "    <tr>\n",
       "      <th>2</th>\n",
       "      <td>01/01/2010</td>\n",
       "      <td>5</td>\n",
       "      <td>ANTIOQUIA</td>\n",
       "      <td>5266</td>\n",
       "      <td>ENVIGADO</td>\n",
       "      <td>HERIDO</td>\n",
       "      <td>1</td>\n",
       "    </tr>\n",
       "    <tr>\n",
       "      <th>3</th>\n",
       "      <td>01/01/2010</td>\n",
       "      <td>5</td>\n",
       "      <td>ANTIOQUIA</td>\n",
       "      <td>5308</td>\n",
       "      <td>GIRARDOTA</td>\n",
       "      <td>HERIDO</td>\n",
       "      <td>1</td>\n",
       "    </tr>\n",
       "    <tr>\n",
       "      <th>4</th>\n",
       "      <td>01/01/2010</td>\n",
       "      <td>19</td>\n",
       "      <td>CAUCA</td>\n",
       "      <td>19050</td>\n",
       "      <td>ARGELIA</td>\n",
       "      <td>HERIDO</td>\n",
       "      <td>2</td>\n",
       "    </tr>\n",
       "  </tbody>\n",
       "</table>\n",
       "</div>"
      ],
      "text/plain": [
       "  FECHA HECHO  COD_DEPTO DEPARTAMENTO  COD_MUNI    MUNICIPIO  ACCION  CANTIDAD\n",
       "0  01/01/2010         50         META     50350  LA MACARENA  HERIDO         1\n",
       "1  01/01/2010         27        CHOCO     27787         TADO  HERIDO         1\n",
       "2  01/01/2010          5    ANTIOQUIA      5266     ENVIGADO  HERIDO         1\n",
       "3  01/01/2010          5    ANTIOQUIA      5308    GIRARDOTA  HERIDO         1\n",
       "4  01/01/2010         19        CAUCA     19050      ARGELIA  HERIDO         2"
      ]
     },
     "metadata": {},
     "output_type": "display_data"
    },
    {
     "name": "stdout",
     "output_type": "stream",
     "text": [
      "\n",
      "Información del Conjunto de Datos:\n",
      "<class 'pandas.core.frame.DataFrame'>\n",
      "RangeIndex: 20645 entries, 0 to 20644\n",
      "Data columns (total 7 columns):\n",
      " #   Column        Non-Null Count  Dtype \n",
      "---  ------        --------------  ----- \n",
      " 0   FECHA HECHO   20645 non-null  object\n",
      " 1   COD_DEPTO     20645 non-null  int64 \n",
      " 2   DEPARTAMENTO  20645 non-null  object\n",
      " 3   COD_MUNI      20645 non-null  int64 \n",
      " 4   MUNICIPIO     20645 non-null  object\n",
      " 5   ACCION        20645 non-null  object\n",
      " 6   CANTIDAD      20645 non-null  int64 \n",
      "dtypes: int64(3), object(4)\n",
      "memory usage: 1.1+ MB\n",
      "\n",
      "Valores Faltantes:\n",
      "FECHA HECHO     0\n",
      "COD_DEPTO       0\n",
      "DEPARTAMENTO    0\n",
      "COD_MUNI        0\n",
      "MUNICIPIO       0\n",
      "ACCION          0\n",
      "CANTIDAD        0\n",
      "dtype: int64\n",
      "\n",
      "Número de filas duplicadas: 4426\n",
      "\n",
      "Forma del conjunto de datos limpio: (16218, 7)\n"
     ]
    }
   ],
   "source": [
    "# Cargar el conjunto de datos\n",
    "df = pd.read_csv('data/AFECTACI_N_DE_MIEMBROS_DE_LA_FUERZA_P_BLICA_20250616.csv', encoding='utf-8')\n",
    "\n",
    "# Mostrar las primeras filas\n",
    "print(\"Primeras 5 filas del conjunto de datos:\")\n",
    "display(df.head())\n",
    "\n",
    "# Información básica\n",
    "print(\"\\nInformación del Conjunto de Datos:\")\n",
    "df.info()\n",
    "\n",
    "# Pasos de limpieza\n",
    "# Parsear fechas\n",
    "df['FECHA HECHO'] = pd.to_datetime(df['FECHA HECHO'], format='%d/%m/%Y', errors='coerce')\n",
    "\n",
    "# Validar CANTIDAD\n",
    "df['CANTIDAD'] = pd.to_numeric(df['CANTIDAD'], errors='coerce')\n",
    "df = df[df['CANTIDAD'] > 0]\n",
    "\n",
    "# Verificar valores faltantes\n",
    "print(\"\\nValores Faltantes:\")\n",
    "print(df.isnull().sum())\n",
    "\n",
    "# Eliminar filas con valores faltantes en columnas críticas\n",
    "df = df.dropna(subset=['FECHA HECHO', 'DEPARTAMENTO', 'MUNICIPIO', 'ACCION', 'CANTIDAD'])\n",
    "\n",
    "# Normalizar ACCION\n",
    "df['ACCION'] = df['ACCION'].str.strip().str.upper()\n",
    "acciones_validas = ['HERIDO', 'ASESINADO']\n",
    "df = df[df['ACCION'].isin(acciones_validas)]\n",
    "\n",
    "# Verificar duplicados\n",
    "duplicados = df.duplicated().sum()\n",
    "print(f\"\\nNúmero de filas duplicadas: {duplicados}\")\n",
    "df = df.drop_duplicates()\n",
    "\n",
    "# Forma final del conjunto\n",
    "print(f\"\\nForma del conjunto de datos limpio: {df.shape}\")\n"
   ]
  },
  {
   "cell_type": "markdown",
   "metadata": {},
   "source": [
    "## 2. Análisis Exploratorio de Datos (EDA)\n",
    "\n",
    "Calculamos estadísticas resumidas para entender el conjunto de datos:\n",
    "- Total de incidentes y personas afectadas.\n",
    "- Desglose por tipo de acción (`HERIDO` vs. `ASESINADO`).\n",
    "- Departamentos y municipios más afectados.\n",
    "- Rango temporal y distribución de incidentes.\n"
   ]
  },
  {
   "cell_type": "code",
   "execution_count": 29,
   "metadata": {},
   "outputs": [
    {
     "name": "stdout",
     "output_type": "stream",
     "text": [
      "Total de Incidentes: 16218\n",
      "Total de Personas Afectadas: 19715\n",
      "\n",
      "Personas Afectadas por Tipo de Acción:\n",
      "ACCION\n",
      "ASESINADO     2648\n",
      "HERIDO       17067\n",
      "Name: CANTIDAD, dtype: int64\n",
      "\n",
      "Top 5 Departamentos por Personas Afectadas:\n",
      "DEPARTAMENTO\n",
      "VALLE DEL CAUCA       3009\n",
      "ANTIOQUIA             2392\n",
      "BOGOTA D.C.           2027\n",
      "CAUCA                 1495\n",
      "NORTE DE SANTANDER    1197\n",
      "Name: CANTIDAD, dtype: int64\n",
      "\n",
      "Top 5 Municipios por Personas Afectadas:\n",
      "MUNICIPIO\n",
      "BOGOTA, D.C.            2003\n",
      "CALI                    1736\n",
      "MEDELLIN                 510\n",
      "SAN ANDRES DE TUMACO     368\n",
      "NEIVA                    299\n",
      "Name: CANTIDAD, dtype: int64\n",
      "\n",
      "Rango Temporal: 2010-01-01 00:00:00 al 2025-04-30 00:00:00\n"
     ]
    }
   ],
   "source": [
    "# Estadísticas resumidas\n",
    "total_incidentes = len(df)\n",
    "total_afectados = df['CANTIDAD'].sum()\n",
    "conteo_acciones = df.groupby('ACCION')['CANTIDAD'].sum()\n",
    "top_departamentos = df.groupby('DEPARTAMENTO')['CANTIDAD'].sum().nlargest(5)\n",
    "top_municipios = df.groupby('MUNICIPIO')['CANTIDAD'].sum().nlargest(5)\n",
    "\n",
    "print(f\"Total de Incidentes: {total_incidentes}\")\n",
    "print(f\"Total de Personas Afectadas: {total_afectados}\")\n",
    "print(\"\\nPersonas Afectadas por Tipo de Acción:\")\n",
    "print(conteo_acciones)\n",
    "print(\"\\nTop 5 Departamentos por Personas Afectadas:\")\n",
    "print(top_departamentos)\n",
    "print(\"\\nTop 5 Municipios por Personas Afectadas:\")\n",
    "print(top_municipios)\n",
    "\n",
    "# Rango temporal\n",
    "fecha_min = df['FECHA HECHO'].min()\n",
    "fecha_max = df['FECHA HECHO'].max()\n",
    "print(f\"\\nRango Temporal: {fecha_min} al {fecha_max}\")\n"
   ]
  },
  {
   "cell_type": "markdown",
   "metadata": {},
   "source": [
    "## 3. Graficas \n",
    "\n",
    "1. **Gráfico de Líneas**: Incidentes a lo largo del tiempo (por año).\n",
    "2. **Gráfico de Barras**: 10 departamentos más afectados.\n",
    "3. **Gráfico de Barras Apiladas**: Heridos vs. asesinados por año.\n",
    "4. **Gráfico de Pastel**: Proporción de heridos vs. asesinados.\n",
    "\n"
   ]
  },
  {
   "cell_type": "markdown",
   "metadata": {},
   "source": [
    "### 3.1 Gráfico de Líneas: Incidentes a lo Largo del Tiempo\n",
    "\n",
    "**Propósito**: Mostrar la tendencia de incidentes que afectan a la fuerza pública entre 2010 y 2025.\n"
   ]
  },
  {
   "cell_type": "code",
   "execution_count": 23,
   "metadata": {},
   "outputs": [
    {
     "data": {
      "image/png": "[encoded data removed]",
      "text/plain": [
       "<Figure size 1000x600 with 1 Axes>"
      ]
     },
     "metadata": {},
     "output_type": "display_data"
    },
    {
     "name": "stdout",
     "output_type": "stream",
     "text": [
      "Hallazgo: El gráfico de líneas muestra fluctuaciones en los incidentes, con posibles picos en ciertos años, lo que sugiere variaciones en los niveles de violencia contra la fuerza pública.\n"
     ]
    }
   ],
   "source": [
    "# Agregar por año\n",
    "df['Año'] = df['FECHA HECHO'].dt.year\n",
    "datos_anuales = df.groupby('Año')['CANTIDAD'].sum().reset_index()\n",
    "\n",
    "# Graficar\n",
    "plt.figure(figsize=(10, 6))\n",
    "sns.lineplot(data=datos_anuales, x='Año', y='CANTIDAD', marker='o')\n",
    "plt.title('Incidentes que Afectan a la Fuerza Pública por Año (2010–2025)', fontsize=14)\n",
    "plt.xlabel('Año', fontsize=12)\n",
    "plt.ylabel('Número de Personas Afectadas', fontsize=12)\n",
    "plt.xticks(datos_anuales['Año'], rotation=45)\n",
    "plt.grid(True)\n",
    "plt.tight_layout()\n",
    "plt.show()\n",
    "\n",
    "print(\"Hallazgo: El gráfico de líneas muestra fluctuaciones en los incidentes, con posibles picos en ciertos años, lo que sugiere variaciones en los niveles de violencia contra la fuerza pública.\")\n"
   ]
  },
  {
   "cell_type": "markdown",
   "metadata": {},
   "source": [
    "### 3.2 Gráfico de Barras: Top 10 Departamentos\n",
    "\n",
    "**Propósito**: Identificar los departamentos con mayor número de personas afectadas.\n"
   ]
  },
  {
   "cell_type": "code",
   "execution_count": 24,
   "metadata": {},
   "outputs": [
    {
     "data": {
      "image/png": "[encoded data removed]",
      "text/plain": [
       "<Figure size 1200x600 with 1 Axes>"
      ]
     },
     "metadata": {},
     "output_type": "display_data"
    },
    {
     "name": "stdout",
     "output_type": "stream",
     "text": [
      "Hallazgo: Departamentos como Cauca y Valle del Cauca están entre los más afectados, lo que indica desafíos significativos de seguridad en estas regiones.\n"
     ]
    }
   ],
   "source": [
    "# Agregar por departamento\n",
    "datos_dept = df.groupby('DEPARTAMENTO')['CANTIDAD'].sum().nlargest(10).reset_index()\n",
    "\n",
    "# Graficar\n",
    "plt.figure(figsize=(12, 6))\n",
    "sns.barplot(data=datos_dept, x='CANTIDAD', y='DEPARTAMENTO')\n",
    "plt.title('Top 10 Departamentos por Personas Afectadas en la Fuerza Pública', fontsize=14)\n",
    "plt.xlabel('Número de Personas Afectadas', fontsize=12)\n",
    "plt.ylabel('Departamento', fontsize=12)\n",
    "plt.tight_layout()\n",
    "plt.show()\n",
    "\n",
    "print(\"Hallazgo: Departamentos como Cauca y Valle del Cauca están entre los más afectados, lo que indica desafíos significativos de seguridad en estas regiones.\")\n"
   ]
  },
  {
   "cell_type": "markdown",
   "metadata": {},
   "source": [
    "### 3.3 Gráfico de Barras Apiladas: Heridos vs. Asesinados por Año\n",
    "\n",
    "**Propósito**: Comparar el número de heridos y asesinados a lo largo del tiempo.\n"
   ]
  },
  {
   "cell_type": "code",
   "execution_count": 25,
   "metadata": {},
   "outputs": [
    {
     "data": {
      "application/vnd.plotly.v1+json": {
       "config": {
        "plotlyServerURL": "https://plot.ly"
       },
       "data": [
        {
         "marker": {
          "color": "blue"
         },
         "name": "Heridos (HERIDO)",
         "type": "bar",
         "x": {
          "bdata": "2gcAANsHAADcBwAA3QcAAN4HAADfBwAA4AcAAOEHAADiBwAA4wcAAOQHAADlBwAA5gcAAOcHAADoBwAA6QcAAA==",
          "dtype": "i4"
         },
         "y": {
          "bdata": "GgawBmkHLAjmBiEGowSkA8wCngJXAtoCJQJyAdEB+wA=",
          "dtype": "i2"
         }
        },
        {
         "marker": {
          "color": "red"
         },
         "name": "Asesinados (ASESINADO)",
         "type": "bar",
         "x": {
          "bdata": "2gcAANsHAADcBwAA3QcAAN4HAADfBwAA4AcAAOEHAADiBwAA4wcAAOQHAADlBwAA5gcAAOcHAADoBwAA6QcAAA==",
          "dtype": "i4"
         },
         "y": {
          "bdata": "fgG5AScB/AD8AIYAaABPAFkAUgBOAHEAawBPAGAAQQA=",
          "dtype": "i2"
         }
        }
       ],
       "layout": {
        "barmode": "stack",
        "legend": {
         "x": 0.8,
         "y": 1.1
        },
        "template": {
         "data": {
          "bar": [
           {
            "error_x": {
             "color": "#2a3f5f"
            },
            "error_y": {
             "color": "#2a3f5f"
            },
            "marker": {
             "line": {
              "color": "white",
              "width": 0.5
             },
             "pattern": {
              "fillmode": "overlay",
              "size": 10,
              "solidity": 0.2
             }
            },
            "type": "bar"
           }
          ],
          "barpolar": [
           {
            "marker": {
             "line": {
              "color": "white",
              "width": 0.5
             },
             "pattern": {
              "fillmode": "overlay",
              "size": 10,
              "solidity": 0.2
             }
            },
            "type": "barpolar"
           }
          ],
          "carpet": [
           {
            "aaxis": {
             "endlinecolor": "#2a3f5f",
             "gridcolor": "#C8D4E3",
             "linecolor": "#C8D4E3",
             "minorgridcolor": "#C8D4E3",
             "startlinecolor": "#2a3f5f"
            },
            "baxis": {
             "endlinecolor": "#2a3f5f",
             "gridcolor": "#C8D4E3",
             "linecolor": "#C8D4E3",
             "minorgridcolor": "#C8D4E3",
             "startlinecolor": "#2a3f5f"
            },
            "type": "carpet"
           }
          ],
          "choropleth": [
           {
            "colorbar": {
             "outlinewidth": 0,
             "ticks": ""
            },
            "type": "choropleth"
           }
          ],
          "contour": [
           {
            "colorbar": {
             "outlinewidth": 0,
             "ticks": ""
            },
            "colorscale": [
             [
              0,
              "#0d0887"
             ],
             [
              0.1111111111111111,
              "#46039f"
             ],
             [
              0.2222222222222222,
              "#7201a8"
             ],
             [
              0.3333333333333333,
              "#9c179e"
             ],
             [
              0.4444444444444444,
              "#bd3786"
             ],
             [
              0.5555555555555556,
              "#d8576b"
             ],
             [
              0.6666666666666666,
              "#ed7953"
             ],
             [
              0.7777777777777778,
              "#fb9f3a"
             ],
             [
              0.8888888888888888,
              "#fdca26"
             ],
             [
              1,
              "#f0f921"
             ]
            ],
            "type": "contour"
           }
          ],
          "contourcarpet": [
           {
            "colorbar": {
             "outlinewidth": 0,
             "ticks": ""
            },
            "type": "contourcarpet"
           }
          ],
          "heatmap": [
           {
            "colorbar": {
             "outlinewidth": 0,
             "ticks": ""
            },
            "colorscale": [
             [
              0,
              "#0d0887"
             ],
             [
              0.1111111111111111,
              "#46039f"
             ],
             [
              0.2222222222222222,
              "#7201a8"
             ],
             [
              0.3333333333333333,
              "#9c179e"
             ],
             [
              0.4444444444444444,
              "#bd3786"
             ],
             [
              0.5555555555555556,
              "#d8576b"
             ],
             [
              0.6666666666666666,
              "#ed7953"
             ],
             [
              0.7777777777777778,
              "#fb9f3a"
             ],
             [
              0.8888888888888888,
              "#fdca26"
             ],
             [
              1,
              "#f0f921"
             ]
            ],
            "type": "heatmap"
           }
          ],
          "histogram": [
           {
            "marker": {
             "pattern": {
              "fillmode": "overlay",
              "size": 10,
              "solidity": 0.2
             }
            },
            "type": "histogram"
           }
          ],
          "histogram2d": [
           {
            "colorbar": {
             "outlinewidth": 0,
             "ticks": ""
            },
            "colorscale": [
             [
              0,
              "#0d0887"
             ],
             [
              0.1111111111111111,
              "#46039f"
             ],
             [
              0.2222222222222222,
              "#7201a8"
             ],
             [
              0.3333333333333333,
              "#9c179e"
             ],
             [
              0.4444444444444444,
              "#bd3786"
             ],
             [
              0.5555555555555556,
              "#d8576b"
             ],
             [
              0.6666666666666666,
              "#ed7953"
             ],
             [
              0.7777777777777778,
              "#fb9f3a"
             ],
             [
              0.8888888888888888,
              "#fdca26"
             ],
             [
              1,
              "#f0f921"
             ]
            ],
            "type": "histogram2d"
           }
          ],
          "histogram2dcontour": [
           {
            "colorbar": {
             "outlinewidth": 0,
             "ticks": ""
            },
            "colorscale": [
             [
              0,
              "#0d0887"
             ],
             [
              0.1111111111111111,
              "#46039f"
             ],
             [
              0.2222222222222222,
              "#7201a8"
             ],
             [
              0.3333333333333333,
              "#9c179e"
             ],
             [
              0.4444444444444444,
              "#bd3786"
             ],
             [
              0.5555555555555556,
              "#d8576b"
             ],
             [
              0.6666666666666666,
              "#ed7953"
             ],
             [
              0.7777777777777778,
              "#fb9f3a"
             ],
             [
              0.8888888888888888,
              "#fdca26"
             ],
             [
              1,
              "#f0f921"
             ]
            ],
            "type": "histogram2dcontour"
           }
          ],
          "mesh3d": [
           {
            "colorbar": {
             "outlinewidth": 0,
             "ticks": ""
            },
            "type": "mesh3d"
           }
          ],
          "parcoords": [
           {
            "line": {
             "colorbar": {
              "outlinewidth": 0,
              "ticks": ""
             }
            },
            "type": "parcoords"
           }
          ],
          "pie": [
           {
            "automargin": true,
            "type": "pie"
           }
          ],
          "scatter": [
           {
            "fillpattern": {
             "fillmode": "overlay",
             "size": 10,
             "solidity": 0.2
            },
            "type": "scatter"
           }
          ],
          "scatter3d": [
           {
            "line": {
             "colorbar": {
              "outlinewidth": 0,
              "ticks": ""
             }
            },
            "marker": {
             "colorbar": {
              "outlinewidth": 0,
              "ticks": ""
             }
            },
            "type": "scatter3d"
           }
          ],
          "scattercarpet": [
           {
            "marker": {
             "colorbar": {
              "outlinewidth": 0,
              "ticks": ""
             }
            },
            "type": "scattercarpet"
           }
          ],
          "scattergeo": [
           {
            "marker": {
             "colorbar": {
              "outlinewidth": 0,
              "ticks": ""
             }
            },
            "type": "scattergeo"
           }
          ],
          "scattergl": [
           {
            "marker": {
             "colorbar": {
              "outlinewidth": 0,
              "ticks": ""
             }
            },
            "type": "scattergl"
           }
          ],
          "scattermap": [
           {
            "marker": {
             "colorbar": {
              "outlinewidth": 0,
              "ticks": ""
             }
            },
            "type": "scattermap"
           }
          ],
          "scattermapbox": [
           {
            "marker": {
             "colorbar": {
              "outlinewidth": 0,
              "ticks": ""
             }
            },
            "type": "scattermapbox"
           }
          ],
          "scatterpolar": [
           {
            "marker": {
             "colorbar": {
              "outlinewidth": 0,
              "ticks": ""
             }
            },
            "type": "scatterpolar"
           }
          ],
          "scatterpolargl": [
           {
            "marker": {
             "colorbar": {
              "outlinewidth": 0,
              "ticks": ""
             }
            },
            "type": "scatterpolargl"
           }
          ],
          "scatterternary": [
           {
            "marker": {
             "colorbar": {
              "outlinewidth": 0,
              "ticks": ""
             }
            },
            "type": "scatterternary"
           }
          ],
          "surface": [
           {
            "colorbar": {
             "outlinewidth": 0,
             "ticks": ""
            },
            "colorscale": [
             [
              0,
              "#0d0887"
             ],
             [
              0.1111111111111111,
              "#46039f"
             ],
             [
              0.2222222222222222,
              "#7201a8"
             ],
             [
              0.3333333333333333,
              "#9c179e"
             ],
             [
              0.4444444444444444,
              "#bd3786"
             ],
             [
              0.5555555555555556,
              "#d8576b"
             ],
             [
              0.6666666666666666,
              "#ed7953"
             ],
             [
              0.7777777777777778,
              "#fb9f3a"
             ],
             [
              0.8888888888888888,
              "#fdca26"
             ],
             [
              1,
              "#f0f921"
             ]
            ],
            "type": "surface"
           }
          ],
          "table": [
           {
            "cells": {
             "fill": {
              "color": "#EBF0F8"
             },
             "line": {
              "color": "white"
             }
            },
            "header": {
             "fill": {
              "color": "#C8D4E3"
             },
             "line": {
              "color": "white"
             }
            },
            "type": "table"
           }
          ]
         },
         "layout": {
          "annotationdefaults": {
           "arrowcolor": "#2a3f5f",
           "arrowhead": 0,
           "arrowwidth": 1
          },
          "autotypenumbers": "strict",
          "coloraxis": {
           "colorbar": {
            "outlinewidth": 0,
            "ticks": ""
           }
          },
          "colorscale": {
           "diverging": [
            [
             0,
             "#8e0152"
            ],
            [
             0.1,
             "#c51b7d"
            ],
            [
             0.2,
             "#de77ae"
            ],
            [
             0.3,
             "#f1b6da"
            ],
            [
             0.4,
             "#fde0ef"
            ],
            [
             0.5,
             "#f7f7f7"
            ],
            [
             0.6,
             "#e6f5d0"
            ],
            [
             0.7,
             "#b8e186"
            ],
            [
             0.8,
             "#7fbc41"
            ],
            [
             0.9,
             "#4d9221"
            ],
            [
             1,
             "#276419"
            ]
           ],
           "sequential": [
            [
             0,
             "#0d0887"
            ],
            [
             0.1111111111111111,
             "#46039f"
            ],
            [
             0.2222222222222222,
             "#7201a8"
            ],
            [
             0.3333333333333333,
             "#9c179e"
            ],
            [
             0.4444444444444444,
             "#bd3786"
            ],
            [
             0.5555555555555556,
             "#d8576b"
            ],
            [
             0.6666666666666666,
             "#ed7953"
            ],
            [
             0.7777777777777778,
             "#fb9f3a"
            ],
            [
             0.8888888888888888,
             "#fdca26"
            ],
            [
             1,
             "#f0f921"
            ]
           ],
           "sequentialminus": [
            [
             0,
             "#0d0887"
            ],
            [
             0.1111111111111111,
             "#46039f"
            ],
            [
             0.2222222222222222,
             "#7201a8"
            ],
            [
             0.3333333333333333,
             "#9c179e"
            ],
            [
             0.4444444444444444,
             "#bd3786"
            ],
            [
             0.5555555555555556,
             "#d8576b"
            ],
            [
             0.6666666666666666,
             "#ed7953"
            ],
            [
             0.7777777777777778,
             "#fb9f3a"
            ],
            [
             0.8888888888888888,
             "#fdca26"
            ],
            [
             1,
             "#f0f921"
            ]
           ]
          },
          "colorway": [
           "#636efa",
           "#EF553B",
           "#00cc96",
           "#ab63fa",
           "#FFA15A",
           "#19d3f3",
           "#FF6692",
           "#B6E880",
           "#FF97FF",
           "#FECB52"
          ],
          "font": {
           "color": "#2a3f5f"
          },
          "geo": {
           "bgcolor": "white",
           "lakecolor": "white",
           "landcolor": "white",
           "showlakes": true,
           "showland": true,
           "subunitcolor": "#C8D4E3"
          },
          "hoverlabel": {
           "align": "left"
          },
          "hovermode": "closest",
          "mapbox": {
           "style": "light"
          },
          "paper_bgcolor": "white",
          "plot_bgcolor": "white",
          "polar": {
           "angularaxis": {
            "gridcolor": "#EBF0F8",
            "linecolor": "#EBF0F8",
            "ticks": ""
           },
           "bgcolor": "white",
           "radialaxis": {
            "gridcolor": "#EBF0F8",
            "linecolor": "#EBF0F8",
            "ticks": ""
           }
          },
          "scene": {
           "xaxis": {
            "backgroundcolor": "white",
            "gridcolor": "#DFE8F3",
            "gridwidth": 2,
            "linecolor": "#EBF0F8",
            "showbackground": true,
            "ticks": "",
            "zerolinecolor": "#EBF0F8"
           },
           "yaxis": {
            "backgroundcolor": "white",
            "gridcolor": "#DFE8F3",
            "gridwidth": 2,
            "linecolor": "#EBF0F8",
            "showbackground": true,
            "ticks": "",
            "zerolinecolor": "#EBF0F8"
           },
           "zaxis": {
            "backgroundcolor": "white",
            "gridcolor": "#DFE8F3",
            "gridwidth": 2,
            "linecolor": "#EBF0F8",
            "showbackground": true,
            "ticks": "",
            "zerolinecolor": "#EBF0F8"
           }
          },
          "shapedefaults": {
           "line": {
            "color": "#2a3f5f"
           }
          },
          "ternary": {
           "aaxis": {
            "gridcolor": "#DFE8F3",
            "linecolor": "#A2B1C6",
            "ticks": ""
           },
           "baxis": {
            "gridcolor": "#DFE8F3",
            "linecolor": "#A2B1C6",
            "ticks": ""
           },
           "bgcolor": "white",
           "caxis": {
            "gridcolor": "#DFE8F3",
            "linecolor": "#A2B1C6",
            "ticks": ""
           }
          },
          "title": {
           "x": 0.05
          },
          "xaxis": {
           "automargin": true,
           "gridcolor": "#EBF0F8",
           "linecolor": "#EBF0F8",
           "ticks": "",
           "title": {
            "standoff": 15
           },
           "zerolinecolor": "#EBF0F8",
           "zerolinewidth": 2
          },
          "yaxis": {
           "automargin": true,
           "gridcolor": "#EBF0F8",
           "linecolor": "#EBF0F8",
           "ticks": "",
           "title": {
            "standoff": 15
           },
           "zerolinecolor": "#EBF0F8",
           "zerolinewidth": 2
          }
         }
        },
        "title": {
         "text": "Heridos vs. Asesinados en la Fuerza Pública por Año (2010–2025)"
        },
        "xaxis": {
         "tickmode": "linear",
         "title": {
          "text": "Año"
         }
        },
        "yaxis": {
         "title": {
          "text": "Número de Personas Afectadas"
         }
        }
       }
      }
     },
     "metadata": {},
     "output_type": "display_data"
    },
    {
     "name": "stdout",
     "output_type": "stream",
     "text": [
      "Hallazgo: Los heridos superan consistentemente a los asesinados, pero ciertos años muestran picos en asesinatos, indicando períodos de mayor violencia.\n"
     ]
    }
   ],
   "source": [
    "# Pivotar datos\n",
    "datos_apilados = df.pivot_table(index='Año', columns='ACCION', values='CANTIDAD', aggfunc='sum', fill_value=0).reset_index()\n",
    "\n",
    "# Crear gráfico de barras apiladas\n",
    "fig = go.Figure(data=[\n",
    "    go.Bar(name='Heridos (HERIDO)', x=datos_apilados['Año'], y=datos_apilados.get('HERIDO', 0), marker_color='blue'),\n",
    "    go.Bar(name='Asesinados (ASESINADO)', x=datos_apilados['Año'], y=datos_apilados.get('ASESINADO', 0), marker_color='red')\n",
    "])\n",
    "\n",
    "# Actualizar diseño\n",
    "fig.update_layout(\n",
    "    barmode='stack',\n",
    "    title='Heridos vs. Asesinados en la Fuerza Pública por Año (2010–2025)',\n",
    "    xaxis_title='Año',\n",
    "    yaxis_title='Número de Personas Afectadas',\n",
    "    xaxis=dict(tickmode='linear'),\n",
    "    legend=dict(x=0.8, y=1.1),\n",
    "    template='plotly_white'\n",
    ")\n",
    "\n",
    "fig.show()\n",
    "\n",
    "print(\"Hallazgo: Los heridos superan consistentemente a los asesinados, pero ciertos años muestran picos en asesinatos, indicando períodos de mayor violencia.\")\n"
   ]
  },
  {
   "cell_type": "markdown",
   "metadata": {},
   "source": [
    "### 3.4 Gráfico de Pastel: Proporción de Heridos vs. Asesinados\n",
    "\n",
    "**Propósito**: Mostrar la distribución general de heridos vs. asesinados.\n"
   ]
  },
  {
   "cell_type": "code",
   "execution_count": 30,
   "metadata": {},
   "outputs": [
    {
     "data": {
      "application/vnd.plotly.v1+json": {
       "config": {
        "plotlyServerURL": "https://plot.ly"
       },
       "data": [
        {
         "customdata": [
          [
           "ASESINADO"
          ],
          [
           "HERIDO"
          ]
         ],
         "domain": {
          "x": [
           0,
           1
          ],
          "y": [
           0,
           1
          ]
         },
         "hovertemplate": "ACCION=%{customdata[0]}<br>CANTIDAD=%{value}<extra></extra>",
         "labels": [
          "ASESINADO",
          "HERIDO"
         ],
         "legendgroup": "",
         "marker": {
          "colors": [
           "red",
           "blue"
          ]
         },
         "name": "",
         "showlegend": true,
         "textinfo": "percent+label",
         "textposition": "inside",
         "type": "pie",
         "values": {
          "bdata": "WAqrQg==",
          "dtype": "i2"
         }
        }
       ],
       "layout": {
        "legend": {
         "tracegroupgap": 0
        },
        "template": {
         "data": {
          "bar": [
           {
            "error_x": {
             "color": "#2a3f5f"
            },
            "error_y": {
             "color": "#2a3f5f"
            },
            "marker": {
             "line": {
              "color": "white",
              "width": 0.5
             },
             "pattern": {
              "fillmode": "overlay",
              "size": 10,
              "solidity": 0.2
             }
            },
            "type": "bar"
           }
          ],
          "barpolar": [
           {
            "marker": {
             "line": {
              "color": "white",
              "width": 0.5
             },
             "pattern": {
              "fillmode": "overlay",
              "size": 10,
              "solidity": 0.2
             }
            },
            "type": "barpolar"
           }
          ],
          "carpet": [
           {
            "aaxis": {
             "endlinecolor": "#2a3f5f",
             "gridcolor": "#C8D4E3",
             "linecolor": "#C8D4E3",
             "minorgridcolor": "#C8D4E3",
             "startlinecolor": "#2a3f5f"
            },
            "baxis": {
             "endlinecolor": "#2a3f5f",
             "gridcolor": "#C8D4E3",
             "linecolor": "#C8D4E3",
             "minorgridcolor": "#C8D4E3",
             "startlinecolor": "#2a3f5f"
            },
            "type": "carpet"
           }
          ],
          "choropleth": [
           {
            "colorbar": {
             "outlinewidth": 0,
             "ticks": ""
            },
            "type": "choropleth"
           }
          ],
          "contour": [
           {
            "colorbar": {
             "outlinewidth": 0,
             "ticks": ""
            },
            "colorscale": [
             [
              0,
              "#0d0887"
             ],
             [
              0.1111111111111111,
              "#46039f"
             ],
             [
              0.2222222222222222,
              "#7201a8"
             ],
             [
              0.3333333333333333,
              "#9c179e"
             ],
             [
              0.4444444444444444,
              "#bd3786"
             ],
             [
              0.5555555555555556,
              "#d8576b"
             ],
             [
              0.6666666666666666,
              "#ed7953"
             ],
             [
              0.7777777777777778,
              "#fb9f3a"
             ],
             [
              0.8888888888888888,
              "#fdca26"
             ],
             [
              1,
              "#f0f921"
             ]
            ],
            "type": "contour"
           }
          ],
          "contourcarpet": [
           {
            "colorbar": {
             "outlinewidth": 0,
             "ticks": ""
            },
            "type": "contourcarpet"
           }
          ],
          "heatmap": [
           {
            "colorbar": {
             "outlinewidth": 0,
             "ticks": ""
            },
            "colorscale": [
             [
              0,
              "#0d0887"
             ],
             [
              0.1111111111111111,
              "#46039f"
             ],
             [
              0.2222222222222222,
              "#7201a8"
             ],
             [
              0.3333333333333333,
              "#9c179e"
             ],
             [
              0.4444444444444444,
              "#bd3786"
             ],
             [
              0.5555555555555556,
              "#d8576b"
             ],
             [
              0.6666666666666666,
              "#ed7953"
             ],
             [
              0.7777777777777778,
              "#fb9f3a"
             ],
             [
              0.8888888888888888,
              "#fdca26"
             ],
             [
              1,
              "#f0f921"
             ]
            ],
            "type": "heatmap"
           }
          ],
          "histogram": [
           {
            "marker": {
             "pattern": {
              "fillmode": "overlay",
              "size": 10,
              "solidity": 0.2
             }
            },
            "type": "histogram"
           }
          ],
          "histogram2d": [
           {
            "colorbar": {
             "outlinewidth": 0,
             "ticks": ""
            },
            "colorscale": [
             [
              0,
              "#0d0887"
             ],
             [
              0.1111111111111111,
              "#46039f"
             ],
             [
              0.2222222222222222,
              "#7201a8"
             ],
             [
              0.3333333333333333,
              "#9c179e"
             ],
             [
              0.4444444444444444,
              "#bd3786"
             ],
             [
              0.5555555555555556,
              "#d8576b"
             ],
             [
              0.6666666666666666,
              "#ed7953"
             ],
             [
              0.7777777777777778,
              "#fb9f3a"
             ],
             [
              0.8888888888888888,
              "#fdca26"
             ],
             [
              1,
              "#f0f921"
             ]
            ],
            "type": "histogram2d"
           }
          ],
          "histogram2dcontour": [
           {
            "colorbar": {
             "outlinewidth": 0,
             "ticks": ""
            },
            "colorscale": [
             [
              0,
              "#0d0887"
             ],
             [
              0.1111111111111111,
              "#46039f"
             ],
             [
              0.2222222222222222,
              "#7201a8"
             ],
             [
              0.3333333333333333,
              "#9c179e"
             ],
             [
              0.4444444444444444,
              "#bd3786"
             ],
             [
              0.5555555555555556,
              "#d8576b"
             ],
             [
              0.6666666666666666,
              "#ed7953"
             ],
             [
              0.7777777777777778,
              "#fb9f3a"
             ],
             [
              0.8888888888888888,
              "#fdca26"
             ],
             [
              1,
              "#f0f921"
             ]
            ],
            "type": "histogram2dcontour"
           }
          ],
          "mesh3d": [
           {
            "colorbar": {
             "outlinewidth": 0,
             "ticks": ""
            },
            "type": "mesh3d"
           }
          ],
          "parcoords": [
           {
            "line": {
             "colorbar": {
              "outlinewidth": 0,
              "ticks": ""
             }
            },
            "type": "parcoords"
           }
          ],
          "pie": [
           {
            "automargin": true,
            "type": "pie"
           }
          ],
          "scatter": [
           {
            "fillpattern": {
             "fillmode": "overlay",
             "size": 10,
             "solidity": 0.2
            },
            "type": "scatter"
           }
          ],
          "scatter3d": [
           {
            "line": {
             "colorbar": {
              "outlinewidth": 0,
              "ticks": ""
             }
            },
            "marker": {
             "colorbar": {
              "outlinewidth": 0,
              "ticks": ""
             }
            },
            "type": "scatter3d"
           }
          ],
          "scattercarpet": [
           {
            "marker": {
             "colorbar": {
              "outlinewidth": 0,
              "ticks": ""
             }
            },
            "type": "scattercarpet"
           }
          ],
          "scattergeo": [
           {
            "marker": {
             "colorbar": {
              "outlinewidth": 0,
              "ticks": ""
             }
            },
            "type": "scattergeo"
           }
          ],
          "scattergl": [
           {
            "marker": {
             "colorbar": {
              "outlinewidth": 0,
              "ticks": ""
             }
            },
            "type": "scattergl"
           }
          ],
          "scattermap": [
           {
            "marker": {
             "colorbar": {
              "outlinewidth": 0,
              "ticks": ""
             }
            },
            "type": "scattermap"
           }
          ],
          "scattermapbox": [
           {
            "marker": {
             "colorbar": {
              "outlinewidth": 0,
              "ticks": ""
             }
            },
            "type": "scattermapbox"
           }
          ],
          "scatterpolar": [
           {
            "marker": {
             "colorbar": {
              "outlinewidth": 0,
              "ticks": ""
             }
            },
            "type": "scatterpolar"
           }
          ],
          "scatterpolargl": [
           {
            "marker": {
             "colorbar": {
              "outlinewidth": 0,
              "ticks": ""
             }
            },
            "type": "scatterpolargl"
           }
          ],
          "scatterternary": [
           {
            "marker": {
             "colorbar": {
              "outlinewidth": 0,
              "ticks": ""
             }
            },
            "type": "scatterternary"
           }
          ],
          "surface": [
           {
            "colorbar": {
             "outlinewidth": 0,
             "ticks": ""
            },
            "colorscale": [
             [
              0,
              "#0d0887"
             ],
             [
              0.1111111111111111,
              "#46039f"
             ],
             [
              0.2222222222222222,
              "#7201a8"
             ],
             [
              0.3333333333333333,
              "#9c179e"
             ],
             [
              0.4444444444444444,
              "#bd3786"
             ],
             [
              0.5555555555555556,
              "#d8576b"
             ],
             [
              0.6666666666666666,
              "#ed7953"
             ],
             [
              0.7777777777777778,
              "#fb9f3a"
             ],
             [
              0.8888888888888888,
              "#fdca26"
             ],
             [
              1,
              "#f0f921"
             ]
            ],
            "type": "surface"
           }
          ],
          "table": [
           {
            "cells": {
             "fill": {
              "color": "#EBF0F8"
             },
             "line": {
              "color": "white"
             }
            },
            "header": {
             "fill": {
              "color": "#C8D4E3"
             },
             "line": {
              "color": "white"
             }
            },
            "type": "table"
           }
          ]
         },
         "layout": {
          "annotationdefaults": {
           "arrowcolor": "#2a3f5f",
           "arrowhead": 0,
           "arrowwidth": 1
          },
          "autotypenumbers": "strict",
          "coloraxis": {
           "colorbar": {
            "outlinewidth": 0,
            "ticks": ""
           }
          },
          "colorscale": {
           "diverging": [
            [
             0,
             "#8e0152"
            ],
            [
             0.1,
             "#c51b7d"
            ],
            [
             0.2,
             "#de77ae"
            ],
            [
             0.3,
             "#f1b6da"
            ],
            [
             0.4,
             "#fde0ef"
            ],
            [
             0.5,
             "#f7f7f7"
            ],
            [
             0.6,
             "#e6f5d0"
            ],
            [
             0.7,
             "#b8e186"
            ],
            [
             0.8,
             "#7fbc41"
            ],
            [
             0.9,
             "#4d9221"
            ],
            [
             1,
             "#276419"
            ]
           ],
           "sequential": [
            [
             0,
             "#0d0887"
            ],
            [
             0.1111111111111111,
             "#46039f"
            ],
            [
             0.2222222222222222,
             "#7201a8"
            ],
            [
             0.3333333333333333,
             "#9c179e"
            ],
            [
             0.4444444444444444,
             "#bd3786"
            ],
            [
             0.5555555555555556,
             "#d8576b"
            ],
            [
             0.6666666666666666,
             "#ed7953"
            ],
            [
             0.7777777777777778,
             "#fb9f3a"
            ],
            [
             0.8888888888888888,
             "#fdca26"
            ],
            [
             1,
             "#f0f921"
            ]
           ],
           "sequentialminus": [
            [
             0,
             "#0d0887"
            ],
            [
             0.1111111111111111,
             "#46039f"
            ],
            [
             0.2222222222222222,
             "#7201a8"
            ],
            [
             0.3333333333333333,
             "#9c179e"
            ],
            [
             0.4444444444444444,
             "#bd3786"
            ],
            [
             0.5555555555555556,
             "#d8576b"
            ],
            [
             0.6666666666666666,
             "#ed7953"
            ],
            [
             0.7777777777777778,
             "#fb9f3a"
            ],
            [
             0.8888888888888888,
             "#fdca26"
            ],
            [
             1,
             "#f0f921"
            ]
           ]
          },
          "colorway": [
           "#636efa",
           "#EF553B",
           "#00cc96",
           "#ab63fa",
           "#FFA15A",
           "#19d3f3",
           "#FF6692",
           "#B6E880",
           "#FF97FF",
           "#FECB52"
          ],
          "font": {
           "color": "#2a3f5f"
          },
          "geo": {
           "bgcolor": "white",
           "lakecolor": "white",
           "landcolor": "white",
           "showlakes": true,
           "showland": true,
           "subunitcolor": "#C8D4E3"
          },
          "hoverlabel": {
           "align": "left"
          },
          "hovermode": "closest",
          "mapbox": {
           "style": "light"
          },
          "paper_bgcolor": "white",
          "plot_bgcolor": "white",
          "polar": {
           "angularaxis": {
            "gridcolor": "#EBF0F8",
            "linecolor": "#EBF0F8",
            "ticks": ""
           },
           "bgcolor": "white",
           "radialaxis": {
            "gridcolor": "#EBF0F8",
            "linecolor": "#EBF0F8",
            "ticks": ""
           }
          },
          "scene": {
           "xaxis": {
            "backgroundcolor": "white",
            "gridcolor": "#DFE8F3",
            "gridwidth": 2,
            "linecolor": "#EBF0F8",
            "showbackground": true,
            "ticks": "",
            "zerolinecolor": "#EBF0F8"
           },
           "yaxis": {
            "backgroundcolor": "white",
            "gridcolor": "#DFE8F3",
            "gridwidth": 2,
            "linecolor": "#EBF0F8",
            "showbackground": true,
            "ticks": "",
            "zerolinecolor": "#EBF0F8"
           },
           "zaxis": {
            "backgroundcolor": "white",
            "gridcolor": "#DFE8F3",
            "gridwidth": 2,
            "linecolor": "#EBF0F8",
            "showbackground": true,
            "ticks": "",
            "zerolinecolor": "#EBF0F8"
           }
          },
          "shapedefaults": {
           "line": {
            "color": "#2a3f5f"
           }
          },
          "ternary": {
           "aaxis": {
            "gridcolor": "#DFE8F3",
            "linecolor": "#A2B1C6",
            "ticks": ""
           },
           "baxis": {
            "gridcolor": "#DFE8F3",
            "linecolor": "#A2B1C6",
            "ticks": ""
           },
           "bgcolor": "white",
           "caxis": {
            "gridcolor": "#DFE8F3",
            "linecolor": "#A2B1C6",
            "ticks": ""
           }
          },
          "title": {
           "x": 0.05
          },
          "xaxis": {
           "automargin": true,
           "gridcolor": "#EBF0F8",
           "linecolor": "#EBF0F8",
           "ticks": "",
           "title": {
            "standoff": 15
           },
           "zerolinecolor": "#EBF0F8",
           "zerolinewidth": 2
          },
          "yaxis": {
           "automargin": true,
           "gridcolor": "#EBF0F8",
           "linecolor": "#EBF0F8",
           "ticks": "",
           "title": {
            "standoff": 15
           },
           "zerolinecolor": "#EBF0F8",
           "zerolinewidth": 2
          }
         }
        },
        "title": {
         "text": "Proporción de Heridos vs. Asesinados (2010–2025)"
        }
       }
      }
     },
     "metadata": {},
     "output_type": "display_data"
    },
    {
     "name": "stdout",
     "output_type": "stream",
     "text": [
      "Hallazgo: La mayoría de los incidentes resultan en heridos en lugar de asesinatos, destacando la prevalencia de ataques no letales.\n"
     ]
    }
   ],
   "source": [
    "# Agregar por acción\n",
    "datos_pastel = df.groupby('ACCION')['CANTIDAD'].sum().reset_index()\n",
    "\n",
    "# Crear gráfico de pastel\n",
    "fig = px.pie(datos_pastel, values='CANTIDAD', names='ACCION', title='Proporción de Heridos vs. Asesinados (2010–2025)',\n",
    "             color='ACCION', color_discrete_map={'HERIDO': 'blue', 'ASESINADO': 'red'})\n",
    "fig.update_traces(textposition='inside', textinfo='percent+label')\n",
    "fig.update_layout(template='plotly_white')\n",
    "fig.show()\n",
    "\n",
    "print(\"Hallazgo: La mayoría de los incidentes resultan en heridos en lugar de asesinatos, destacando la prevalencia de ataques no letales.\")\n"
   ]
  },
  {
   "cell_type": "markdown",
   "metadata": {},
   "source": [
    "## 4. Hallazgo Interesante\n",
    "\n",
    "Analizamos el municipio más afectado por número de personas.\n"
   ]
  },
  {
   "cell_type": "code",
   "execution_count": 32,
   "metadata": {},
   "outputs": [
    {
     "name": "stdout",
     "output_type": "stream",
     "text": [
      "Hallazgo Interesante: BOGOTA, D.C. es el municipio con el mayor número de personas afectadas en la fuerza pública, con 2003 individuos (10.2% del total). Esto sugiere que BOGOTA, D.C. es un punto crítico de violencia contra la fuerza pública.\n"
     ]
    }
   ],
   "source": [
    "# Calcular municipio más afectado\n",
    "datos_muni = df.groupby('MUNICIPIO')['CANTIDAD'].sum()\n",
    "muni_top = datos_muni.idxmax()\n",
    "muni_top_conteo = datos_muni.max()\n",
    "total_afectados = datos_muni.sum()\n",
    "porcentaje = (muni_top_conteo / total_afectados * 100).round(1)\n",
    "\n",
    "print(f\"Hallazgo Interesante: {muni_top} es el municipio con el mayor número de personas afectadas en la fuerza pública, con {muni_top_conteo} individuos ({porcentaje}% del total). Esto sugiere que {muni_top} es un punto crítico de violencia contra la fuerza pública.\")\n"
   ]
  },
  {
   "cell_type": "markdown",
   "metadata": {},
   "source": [
    "## 5. Conclusión y Recomendaciones\n",
    "\n",
    "### Resumen de Hallazgos\n",
    "- **Tendencias Temporales**: Los incidentes fluctúan durante el período de 15 años, con picos significativos en ciertos años.\n",
    "- **Gravedad**: Los heridos son más comunes que los asesinados, pero las muertes siguen siendo una preocupación en años y regiones específicas.\n",
    "\n",
    "### Recomendaciones\n",
    "1. **Medidas de Seguridad Específicas**: Desplegar recursos adicionales en áreas de alto riesgo.\n",
    "2. **Análisis Temporal**: Investigar los años con picos de incidentes para entender las causas subyacentes (ej., disturbios políticos, actividad de grupos armados).\n",
    "3. **Capacitación y Equipos**: Mejorar la capacitación y proporcionar mejor equipo de protección para reducir heridos y asesinados.\n",
    "4. **Monitoreo de Datos**: Continuar recolectando y analizando datos para evaluar la efectividad de las intervenciones.\n",
    "\n",
    "### Trabajo Futuro\n",
    "- Incorporar datos externos (ej., eventos de conflicto, factores socioeconómicos) para contextualizar los incidentes.\n",
    "- Usar aprendizaje automático para predecir áreas y momentos de alto riesgo.\n",
    "- Crear un tablero interactivo para monitoreo en tiempo real.\n"
   ]
  }
 ],
 "metadata": {
  "kernelspec": {
   "display_name": ".venv",
   "language": "python",
   "name": "python3"
  },
  "language_info": {
   "codemirror_mode": {
    "name": "ipython",
    "version": 3
   },
   "file_extension": ".py",
   "mimetype": "text/x-python",
   "name": "python",
   "nbconvert_exporter": "python",
   "pygments_lexer": "ipython3",
   "version": "3.11.2"
  }
 },
 "nbformat": 4,
 "nbformat_minor": 4
}
